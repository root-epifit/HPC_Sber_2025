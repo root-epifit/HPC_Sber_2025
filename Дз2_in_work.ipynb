{
  "cells": [
    {
      "cell_type": "markdown",
      "metadata": {
        "id": "view-in-github",
        "colab_type": "text"
      },
      "source": [
        "<a href=\"https://colab.research.google.com/github/root-epifit/HPC_Sber_2025/blob/main/%D0%94%D0%B72_in_work.ipynb\" target=\"_parent\"><img src=\"https://colab.research.google.com/assets/colab-badge.svg\" alt=\"Open In Colab\"/></a>"
      ]
    },
    {
      "cell_type": "markdown",
      "id": "fd38da4b-c1a0-435c-b4ef-f53409aa1b55",
      "metadata": {
        "id": "fd38da4b-c1a0-435c-b4ef-f53409aa1b55"
      },
      "source": [
        "## Домашнее задание 2\n",
        "\n",
        "### связь Python с программами на C/C++"
      ]
    },
    {
      "cell_type": "markdown",
      "id": "b732f8c0-2e02-4e65-8e77-393d973d1542",
      "metadata": {
        "id": "b732f8c0-2e02-4e65-8e77-393d973d1542"
      },
      "source": [
        "1. Реализовать на языке C/C++ классические операции перемножения квадратных матриц и умножения матрицы на вектор (15%)"
      ]
    },
    {
      "cell_type": "code",
      "execution_count": null,
      "id": "742ca1f6-e746-4d0f-830d-503c56503f7a",
      "metadata": {
        "id": "742ca1f6-e746-4d0f-830d-503c56503f7a"
      },
      "outputs": [],
      "source": [
        "# можно использовать %%writefile и оформить сишный код прямо здесь\n",
        "# но наверное удобней будет писать его напрямую в отдельных файлах\n",
        "# и прислать вместе с домашним заданием"
      ]
    },
    {
      "cell_type": "markdown",
      "source": [
        "### Задание 1"
      ],
      "metadata": {
        "id": "ZDSOtCygtxgd"
      },
      "id": "ZDSOtCygtxgd"
    },
    {
      "cell_type": "code",
      "source": [
        "%%writefile matrix_operations.c\n",
        "\n",
        "#include <stdio.h>\n",
        "#include <stdlib.h>\n",
        "\n",
        "#define MAX_SIZE 8192 // Максимальный размер матриц и векторов\n",
        "\n",
        "// Функция для перемножения квадратных матриц\n",
        "int** multiply_matrices(int** a, int** b, int N) {\n",
        "    int **c = malloc(MAX_SIZE * sizeof(int *)); // alloc memory\n",
        "    for (int i = 0; i < N; i++) {\n",
        "        c[i] = malloc(MAX_SIZE * sizeof(int));\n",
        "        for (int j = 0; j < N; j++) {\n",
        "            c[i][j] = 0;                      // Инициализируем элемент c[i][j]\n",
        "            for (int k = 0; k < N; k++) {\n",
        "                c[i][j] += a[i][k] * b[k][j];  // Умножаем и суммируем\n",
        "            }\n",
        "        }\n",
        "    }\n",
        "    return c;\n",
        "}\n",
        "\n",
        "// Функция для умножения матрицы на вектор\n",
        "int* multiply_matrix_vector(int** a, int* b, int n) {\n",
        "    int *c = malloc(MAX_SIZE * sizeof(int *)); // alloc memory\n",
        "    for (int i = 0; i < n; i++) {\n",
        "        c[i] = 0;  // Инициализируем элемент C[i]\n",
        "        for (int j = 0; j < n; j++) {\n",
        "            c[i] += a[i][j] * b[j];  // Умножаем и суммируем\n",
        "        }\n",
        "    }\n",
        "    return c;\n",
        "}\n",
        "\n",
        "// Функция для вывода матрицы\n",
        "void print_matrix(int** A, int N) {\n",
        "    for (int i = 0; i < N; i++) {\n",
        "        for (int j = 0; j < N; j++) {\n",
        "            printf(\"%d \", A[i][j]);\n",
        "        }\n",
        "        printf(\"\\n\");\n",
        "    }\n",
        "}\n",
        "\n",
        "// Функция для вывода вектора\n",
        "void print_vector(int* B, int N) {\n",
        "    for (int i = 0; i < N; i++) {\n",
        "        printf(\"%d\\n\", B[i]);\n",
        "    }\n",
        "    printf(\"\\n\");\n",
        "}\n",
        "\n",
        "int** create_matrix(int N){\n",
        "    int** a = malloc(MAX_SIZE * sizeof(int *));\n",
        "    for (int i = 0; i < N; i++) {\n",
        "        a[i] = malloc(MAX_SIZE * sizeof(int));\n",
        "        for (int j = 0; j < N; j++) {\n",
        "            a[i][j] = i*N + j;\n",
        "        }\n",
        "    }\n",
        "    return a;\n",
        "}\n",
        "\n",
        "int* create_vector(int N){\n",
        "    int* a = malloc(MAX_SIZE * sizeof(int *));\n",
        "    for (int i = 0; i < N; i++) {\n",
        "       a[i] = i;\n",
        "     }\n",
        "    return a;\n",
        "}\n",
        "\n",
        "\n",
        "int main (int argc, char *argv[]) {\n",
        "    char *a = argv[1];\n",
        "    //printf(\"a = %s\\n\", a);\n",
        "\n",
        "    int N = atoi(a);\n",
        "    printf(\"N = %d\\n\", N);\n",
        "\n",
        "    // Инициализация первой матрицы\n",
        "    printf(\"Инициализация первой матрицу A (%d x %d)...\\n\", N, N);\n",
        "    int** A=create_matrix(N);\n",
        "    print_matrix(A, N);\n",
        "\n",
        "    // Инициализация второй матрицы\n",
        "    printf(\"Инициализация второй матрицы B (%d x %d)...\\n\", N, N);\n",
        "    int** B=create_matrix(N);\n",
        "    print_matrix(B, N);\n",
        "\n",
        "    // Перемножение матриц\n",
        "    printf(\"Перемножение матриц C = A * B ...\\n\");\n",
        "    int** C = multiply_matrices(A, B, N);\n",
        "    print_matrix(C, N);\n",
        "\n",
        "    // Умножение матрицы A на вектор\n",
        "    printf(\"Инициализация вектора размером %d ...\\n\", N);\n",
        "    int* vector = create_vector(N);\n",
        "    print_vector(vector, N);\n",
        "\n",
        "    printf(\"Умножение матрицы A на вектор ...\\n\");\n",
        "    int* result_vector = multiply_matrix_vector(A, vector, N);\n",
        "    print_vector(result_vector, N);\n",
        "\n",
        "    printf(\"Завершил работу\\n\");\n",
        "    return 0;\n",
        "}\n"
      ],
      "metadata": {
        "colab": {
          "base_uri": "https://localhost:8080/"
        },
        "id": "epH8IhFatwXP",
        "outputId": "92ce452b-2e85-4892-f2a9-e3689035eff4"
      },
      "id": "epH8IhFatwXP",
      "execution_count": 1,
      "outputs": [
        {
          "output_type": "stream",
          "name": "stdout",
          "text": [
            "Writing matrix_operations.c\n"
          ]
        }
      ]
    },
    {
      "cell_type": "code",
      "source": [
        "!gcc matrix_operations.c -o matrix_operations"
      ],
      "metadata": {
        "id": "q-D2Ei93twZy"
      },
      "id": "q-D2Ei93twZy",
      "execution_count": 2,
      "outputs": []
    },
    {
      "cell_type": "code",
      "source": [
        "%%timeit -r 1 -n 1\n",
        "!./matrix_operations 2"
      ],
      "metadata": {
        "colab": {
          "base_uri": "https://localhost:8080/"
        },
        "outputId": "fbc21d6c-672c-4571-9be2-f2eef7c33c8b",
        "id": "DqcczNXt1M6Z"
      },
      "execution_count": 3,
      "outputs": [
        {
          "output_type": "stream",
          "name": "stdout",
          "text": [
            "N = 2\n",
            "Инициализация первой матрицу A (2 x 2)...\n",
            "0 1 \n",
            "2 3 \n",
            "Инициализация второй матрицы B (2 x 2)...\n",
            "0 1 \n",
            "2 3 \n",
            "Перемножение матриц C = A * B ...\n",
            "2 3 \n",
            "6 11 \n",
            "Инициализация вектора размером 2 ...\n",
            "0\n",
            "1\n",
            "\n",
            "Умножение матрицы A на вектор ...\n",
            "1\n",
            "3\n",
            "\n",
            "Завершил работу\n",
            "103 ms ± 0 ns per loop (mean ± std. dev. of 1 run, 1 loop each)\n"
          ]
        }
      ],
      "id": "DqcczNXt1M6Z"
    },
    {
      "cell_type": "markdown",
      "id": "f4433714-9fea-4011-b476-133bb0703bdb",
      "metadata": {
        "id": "f4433714-9fea-4011-b476-133bb0703bdb"
      },
      "source": [
        "2. Разделить программу на несколько модулей и провести сборку через статическую линковку (25%)"
      ]
    },
    {
      "cell_type": "code",
      "execution_count": null,
      "id": "b563e47a-d118-4508-b8da-9ba28276c86f",
      "metadata": {
        "id": "b563e47a-d118-4508-b8da-9ba28276c86f"
      },
      "outputs": [],
      "source": [
        "# можно используя знак ! запустить команду сборки прямо отсюда (так будет видно, что пункт 2 выполнен"
      ]
    },
    {
      "cell_type": "markdown",
      "source": [
        "### Задание 2"
      ],
      "metadata": {
        "id": "OCVi8Jur3E2e"
      },
      "id": "OCVi8Jur3E2e"
    },
    {
      "cell_type": "code",
      "source": [
        "%%writefile dprintf.h\n",
        "/* $Id: dprintf.h  $\n",
        "   $Date: 2025-04-05 08:51:00 $\n",
        "   Copyright (C) 2025 David Ireland, DI Management Services Pty Limited\n",
        "   <https://www.di-mgt.com.au/>\n",
        "   @license MIT <https://opensource.org/license/mit/>\n",
        "*/\n",
        "\n",
        "/* Debugging print macros.\n",
        "   Will not show at all if in Release mode\n",
        "   or if NO_DPRINTF is defined _before_ including this file\n",
        "*/\n",
        "\n",
        "#ifndef DPRINTF_H_\n",
        "#define DPRINTF_H_\n",
        "\n",
        "#if (defined(_DEBUG) && !(defined(NO_DPRINTF)))\n",
        "#include <stdio.h>\n",
        "#define DPRINTF0(s) printf(s)\n",
        "#define DPRINTF1(s, a1) printf(s, a1)\n",
        "#define DPRINTF2(s, a1, a2) printf(s, a1, a2)\n",
        "#define DPRINTF3(s, a1, a2, a3) printf(s, a1, a2, a3)\n",
        "#define DPRINTF4(s, a1, a2, a3, a4) printf(s, a1, a2, a3, a4)\n",
        "#define DPRINTF5(s, a1, a2, a3, a4, a5) printf(s, a1, a2, a3, a4, a5)\n",
        "#define DPRINTF6(s, a1, a2, a3, a4, a5, a6) printf(s, a1, a2, a3, a4, a5, a6)\n",
        "#define DPRBYTES(b,n) do{int i_;for(i_=0;i_<(int)(n);i_++){printf(\"%02x\",(b)[i_]);}printf(\"\\n\");}while(0)\n",
        "#define DPRBYTESMSG(msg,b,n) do{printf(\"%s\",(msg)); DPRBYTES((b),(n));}while(0)\n",
        "\n",
        "#else\n",
        "#define DPRINTF0(s)\n",
        "#define DPRINTF1(s, a1)\n",
        "#define DPRINTF2(s, a1, a2)\n",
        "#define DPRINTF3(s, a1, a2, a3)\n",
        "#define DPRINTF4(s, a1, a2, a3, a4)\n",
        "#define DPRINTF5(s, a1, a2, a3, a4, a5)\n",
        "#define DPRINTF6(s, a1, a2, a3, a4, a5, a6)\n",
        "#define DPRBYTES(b,n)\n",
        "#define DPRBYTESMSG(msg,b,n)\n",
        "\n",
        "#endif\n",
        "\n",
        "#endif /* DPRINTF_H_ */"
      ],
      "metadata": {
        "colab": {
          "base_uri": "https://localhost:8080/"
        },
        "id": "lSvishLZ184y",
        "outputId": "121267ed-fc2f-47d0-b6d5-975949e23d5b"
      },
      "id": "lSvishLZ184y",
      "execution_count": 4,
      "outputs": [
        {
          "output_type": "stream",
          "name": "stdout",
          "text": [
            "Writing dprintf.h\n"
          ]
        }
      ]
    },
    {
      "cell_type": "code",
      "source": [
        "%%writefile matrix_operations.h\n",
        "#define MAX_SIZE 8192 // Максимальный размер матриц и векторов\n",
        "\n",
        "int** multiply_matrices(int** a, int** b, int n);\n",
        "int* multiply_matrix_vector(int** a, int* b, int n);\n",
        "\n",
        "int** create_matrix(int n);\n",
        "int*  create_vector(int n);\n",
        "\n",
        "void print_matrix(int** a, int n);\n",
        "void print_vector(int* a, int n);"
      ],
      "metadata": {
        "colab": {
          "base_uri": "https://localhost:8080/"
        },
        "id": "VdRFAhpuntHR",
        "outputId": "d6b68d40-1d7b-4ee2-dffd-bd0c1ee2c206"
      },
      "id": "VdRFAhpuntHR",
      "execution_count": 5,
      "outputs": [
        {
          "output_type": "stream",
          "name": "stdout",
          "text": [
            "Writing matrix_operations.h\n"
          ]
        }
      ]
    },
    {
      "cell_type": "code",
      "source": [
        "%%writefile matrix_operations_lib.c\n",
        "\n",
        "#include <stdio.h>\n",
        "#include <stdlib.h>\n",
        "\n",
        "#include \"matrix_operations.h\"\n",
        "#include \"dprintf.h\"\n",
        "\n",
        "// Функция для перемножения квадратных матриц\n",
        "int** multiply_matrices(int** a, int** b, int N) {\n",
        "    // в режиме отладки распечатываем вход\n",
        "    DPRINTF0(\"multiply_matrix: Matrix a:\\n\");\n",
        "    print_matrix(a,N);\n",
        "    DPRINTF0(\"multiply_matrix: Matrix b:\\n\");\n",
        "    print_matrix(b,N);\n",
        "\n",
        "    int** c = malloc(MAX_SIZE * sizeof(int *)); // alloc memory\n",
        "    for (int i = 0; i < N; i++) {\n",
        "        c[i] = malloc(MAX_SIZE * sizeof(int));\n",
        "        for (int j = 0; j < N; j++) {\n",
        "            c[i][j] = 0;                      // Инициализируем элемент c[i][j]\n",
        "            for (int k = 0; k < N; k++) {\n",
        "                c[i][j] += a[i][k] * b[k][j];  // Умножаем и суммируем\n",
        "            }\n",
        "        }\n",
        "    }\n",
        "    // в режиме отладки распечатываем result\n",
        "    DPRINTF0(\"multiply_matrix: Matrix c (result):\\n\");\n",
        "    print_matrix(c,N);\n",
        "    DPRINTF0(\"\\n\");\n",
        "\n",
        "    return c;\n",
        "}\n",
        "\n",
        "// Функция для умножения матрицы на вектор\n",
        "int* multiply_matrix_vector(int** a, int* b, int n) {\n",
        "    int *c = malloc(MAX_SIZE * sizeof(int *)); // alloc memory\n",
        "    for (int i = 0; i < n; i++) {\n",
        "        c[i] = 0;  // Инициализируем элемент C[i]\n",
        "        for (int j = 0; j < n; j++) {\n",
        "            c[i] += a[i][j] * b[j];  // Умножаем и суммируем\n",
        "        }\n",
        "    }\n",
        "    return c;\n",
        "}\n",
        "\n",
        "// Функция для вывода матрицы\n",
        "void print_matrix(int** A, int N) {\n",
        "    for (int i = 0; i < N; i++) {\n",
        "        for (int j = 0; j < N; j++) {\n",
        "            DPRINTF1(\"%d \", A[i][j]);\n",
        "        }\n",
        "        DPRINTF0(\"\\n\");\n",
        "    }\n",
        "}\n",
        "\n",
        "// Функция для вывода вектора\n",
        "void print_vector(int* B, int N) {\n",
        "    for (int i = 0; i < N; i++) {\n",
        "        DPRINTF1(\"%d\\n\", B[i]);\n",
        "    }\n",
        "    DPRINTF0(\"\\n\");\n",
        "}\n",
        "\n",
        "int** create_matrix(int N){\n",
        "    int** a = malloc(MAX_SIZE * sizeof(int *));\n",
        "    for (int i = 0; i < N; i++) {\n",
        "        a[i] = malloc(MAX_SIZE * sizeof(int));\n",
        "        for (int j = 0; j < N; j++) {\n",
        "            a[i][j] = i*N + j;\n",
        "        }\n",
        "    }\n",
        "    return a;\n",
        "}\n",
        "\n",
        "int* create_vector(int N){\n",
        "    int* a = malloc(MAX_SIZE * sizeof(int *));\n",
        "    for (int i = 0; i < N; i++) {\n",
        "       a[i] = i;\n",
        "     }\n",
        "    return a;\n",
        "}\n"
      ],
      "metadata": {
        "colab": {
          "base_uri": "https://localhost:8080/"
        },
        "id": "F7mKDWInlx-7",
        "outputId": "4d897f4e-be87-4c3f-e18b-cfec6e5764e5"
      },
      "id": "F7mKDWInlx-7",
      "execution_count": 18,
      "outputs": [
        {
          "output_type": "stream",
          "name": "stdout",
          "text": [
            "Overwriting matrix_operations_lib.c\n"
          ]
        }
      ]
    },
    {
      "cell_type": "code",
      "source": [
        "%%writefile matrix_operations_main.c\n",
        "\n",
        "#include <stdio.h>\n",
        "#include <stdlib.h>\n",
        "\n",
        "#include \"matrix_operations.h\"\n",
        "#include \"dprintf.h\"\n",
        "\n",
        "int main (int argc, char *argv[]) {\n",
        "//int main(){\n",
        "\n",
        "    char *a = argv[1];\n",
        "    //printf(\"a = %s\\n\", a);\n",
        "\n",
        "    int N = atoi(a);\n",
        "    printf(\"N = %d\\n\", N);\n",
        "\n",
        "    // Инициализация первой матрицы\n",
        "    DPRINTF2(\"Инициализация первой матрицу A (%d x %d)...\\n\", N, N);\n",
        "    int** A=create_matrix(N);\n",
        "    print_matrix(A, N);\n",
        "\n",
        "    // Инициализация второй матрицы\n",
        "    DPRINTF2(\"Инициализация второй матрицы B (%d x %d)...\\n\", N, N);\n",
        "    int** B=create_matrix(N);\n",
        "    print_matrix(B, N);\n",
        "\n",
        "    // Перемножение матриц\n",
        "    DPRINTF0(\"Перемножение матриц C = A * B ...\\n\");\n",
        "    int** C = multiply_matrices(A, B, N);\n",
        "    print_matrix(C, N);\n",
        "\n",
        "    // Умножение матрицы A на вектор\n",
        "    DPRINTF1(\"Инициализация вектора размером %d ...\\n\", N);\n",
        "    int* vector = create_vector(N);\n",
        "    print_vector(vector, N);\n",
        "\n",
        "    DPRINTF0(\"Умножение матрицы A на вектор ...\\n\");\n",
        "    int* result_vector = multiply_matrix_vector(A, vector, N);\n",
        "    print_vector(result_vector, N);\n",
        "\n",
        "    DPRINTF0(\"Завершил работу\\n\");\n",
        "    return 0;\n",
        "}\n"
      ],
      "metadata": {
        "colab": {
          "base_uri": "https://localhost:8080/"
        },
        "id": "UuW_zd8bmLrB",
        "outputId": "b4a235bd-3f76-49b6-af00-dcebe36b3ac2"
      },
      "id": "UuW_zd8bmLrB",
      "execution_count": 16,
      "outputs": [
        {
          "output_type": "stream",
          "name": "stdout",
          "text": [
            "Overwriting matrix_operations_main.c\n"
          ]
        }
      ]
    },
    {
      "cell_type": "code",
      "source": [
        "!gcc -D_DEBUG -o matrix_operations_main matrix_operations_lib.c matrix_operations_main.c"
      ],
      "metadata": {
        "id": "fVR580FxnOYd"
      },
      "id": "fVR580FxnOYd",
      "execution_count": 19,
      "outputs": []
    },
    {
      "cell_type": "code",
      "source": [
        " # проверяем работу\n",
        " !./matrix_operations_main 3"
      ],
      "metadata": {
        "colab": {
          "base_uri": "https://localhost:8080/"
        },
        "id": "mzbwhiwXsEZy",
        "outputId": "6f1138c1-1cd8-426d-df2d-ab87afa03495"
      },
      "id": "mzbwhiwXsEZy",
      "execution_count": 20,
      "outputs": [
        {
          "output_type": "stream",
          "name": "stdout",
          "text": [
            "N = 3\n",
            "Инициализация первой матрицу A (3 x 3)...\n",
            "0 1 2 \n",
            "3 4 5 \n",
            "6 7 8 \n",
            "Инициализация второй матрицы B (3 x 3)...\n",
            "0 1 2 \n",
            "3 4 5 \n",
            "6 7 8 \n",
            "Перемножение матриц C = A * B ...\n",
            "multiply_matrix: Matrix a:\n",
            "0 1 2 \n",
            "3 4 5 \n",
            "6 7 8 \n",
            "multiply_matrix: Matrix b:\n",
            "0 1 2 \n",
            "3 4 5 \n",
            "6 7 8 \n",
            "multiply_matrix: Matrix c (result):\n",
            "15 18 21 \n",
            "42 54 66 \n",
            "69 90 111 \n",
            "\n",
            "15 18 21 \n",
            "42 54 66 \n",
            "69 90 111 \n",
            "Инициализация вектора размером 3 ...\n",
            "0\n",
            "1\n",
            "2\n",
            "\n",
            "Умножение матрицы A на вектор ...\n",
            "5\n",
            "14\n",
            "23\n",
            "\n",
            "Завершил работу\n"
          ]
        }
      ]
    },
    {
      "cell_type": "markdown",
      "id": "2147d411-a7d9-437b-9571-b8bf0247581d",
      "metadata": {
        "id": "2147d411-a7d9-437b-9571-b8bf0247581d"
      },
      "source": [
        "3. Подготовьте две сборки с флагами -g и -O3 и измерьте времена выполнения операций с N = 512, 1024, . . ., 4096 (20%)"
      ]
    },
    {
      "cell_type": "code",
      "execution_count": null,
      "id": "e89c6ab3-8a4d-42eb-847e-1b174511ea9b",
      "metadata": {
        "id": "e89c6ab3-8a4d-42eb-847e-1b174511ea9b"
      },
      "outputs": [],
      "source": [
        "# замеры можно сделать используя %%time, %%timeit\n",
        "# если комфортней работать с терминалом, то можно приложить\n",
        "# к домашнему заданию скрин с записанными временами расчетов"
      ]
    },
    {
      "cell_type": "markdown",
      "source": [
        "### Задание 3"
      ],
      "metadata": {
        "id": "X45Hez7j9o2j"
      },
      "id": "X45Hez7j9o2j"
    },
    {
      "cell_type": "code",
      "source": [
        "!gcc -g -o matrix_operations_main_g matrix_operations_lib.c matrix_operations_main.c"
      ],
      "metadata": {
        "id": "IotGVuWEt_9O"
      },
      "id": "IotGVuWEt_9O",
      "execution_count": 21,
      "outputs": []
    },
    {
      "cell_type": "code",
      "source": [
        "%time !./matrix_operations_main_g 512\n",
        "%time !./matrix_operations_main_g 1024\n",
        "%time !./matrix_operations_main_g 2048\n",
        "# %time !./matrix_operations_main_g 4096  # очень долго !!!!"
      ],
      "metadata": {
        "colab": {
          "base_uri": "https://localhost:8080/"
        },
        "id": "O6fKagv2t__0",
        "outputId": "05959360-0402-415b-b94b-c35859fc0d09"
      },
      "id": "O6fKagv2t__0",
      "execution_count": 22,
      "outputs": [
        {
          "output_type": "stream",
          "name": "stdout",
          "text": [
            "N = 512\n",
            "CPU times: user 5.6 ms, sys: 2.07 ms, total: 7.67 ms\n",
            "Wall time: 1.31 s\n",
            "N = 1024\n",
            "CPU times: user 35.2 ms, sys: 7.42 ms, total: 42.7 ms\n",
            "Wall time: 15.2 s\n",
            "N = 2048\n",
            "CPU times: user 391 ms, sys: 50.2 ms, total: 441 ms\n",
            "Wall time: 2min 46s\n"
          ]
        }
      ]
    },
    {
      "cell_type": "code",
      "source": [
        "!gcc -O3 -o matrix_operations_main_O3 matrix_operations_lib.c matrix_operations_main.c"
      ],
      "metadata": {
        "id": "ohw5omFYvqNR"
      },
      "id": "ohw5omFYvqNR",
      "execution_count": 71,
      "outputs": []
    },
    {
      "cell_type": "code",
      "source": [
        "%time !./matrix_operations_main_O3 512\n",
        "%time !./matrix_operations_main_O3 1024\n",
        "%time !./matrix_operations_main_O3 2048\n",
        "# %time !./matrix_operations_main_g 4096  # очень долго !!!!"
      ],
      "metadata": {
        "colab": {
          "base_uri": "https://localhost:8080/"
        },
        "id": "IidhjhBmv1Tr",
        "outputId": "561d5c94-350d-42f1-cfcd-86291c0c4a3c"
      },
      "id": "IidhjhBmv1Tr",
      "execution_count": 72,
      "outputs": [
        {
          "output_type": "stream",
          "name": "stdout",
          "text": [
            "N = 512\n",
            "CPU times: user 3.39 ms, sys: 1.05 ms, total: 4.44 ms\n",
            "Wall time: 304 ms\n",
            "N = 1024\n",
            "CPU times: user 10.6 ms, sys: 203 µs, total: 10.8 ms\n",
            "Wall time: 3.01 s\n",
            "N = 2048\n",
            "CPU times: user 216 ms, sys: 36.2 ms, total: 252 ms\n",
            "Wall time: 1min 35s\n"
          ]
        }
      ]
    },
    {
      "cell_type": "markdown",
      "id": "7c234d8a-dc1b-48c8-b038-b4c61725cb51",
      "metadata": {
        "id": "7c234d8a-dc1b-48c8-b038-b4c61725cb51"
      },
      "source": [
        "4. Выполните вызов процедуры из Python через Ctypes/Cython/PyBind11 и измерьте времена (40%)"
      ]
    },
    {
      "cell_type": "code",
      "execution_count": null,
      "id": "09283a6c-92cb-410a-86c3-d5470d6cf954",
      "metadata": {
        "id": "09283a6c-92cb-410a-86c3-d5470d6cf954"
      },
      "outputs": [],
      "source": [
        "# можно это сделать здесь"
      ]
    },
    {
      "cell_type": "markdown",
      "source": [
        "### Ctypes"
      ],
      "metadata": {
        "id": "ibb7kClirwSR"
      },
      "id": "ibb7kClirwSR"
    },
    {
      "cell_type": "code",
      "source": [
        "# Ctypes"
      ],
      "metadata": {
        "id": "OHwS3cvU26x4"
      },
      "id": "OHwS3cvU26x4",
      "execution_count": null,
      "outputs": []
    },
    {
      "cell_type": "code",
      "source": [
        "# компилируем в shared library\n",
        "!rm ./*.so\n",
        "!gcc -c -Wall -Werror -fPIC -D_DEBUG -o matrix_operations_lib.o matrix_operations_lib.c\n",
        "!gcc -shared -o matrix_operations_lib.so matrix_operations_lib.o\n",
        "!ls ./*.so\n",
        "\n",
        "#!gcc -shared -o matrix_operations_lib.so -fPIC matrix_operations_lib.c"
      ],
      "metadata": {
        "id": "8SXaKi5l3nZn",
        "colab": {
          "base_uri": "https://localhost:8080/"
        },
        "outputId": "c7ef8244-63d3-4485-8159-a5ec01a33ac2"
      },
      "id": "8SXaKi5l3nZn",
      "execution_count": 1,
      "outputs": [
        {
          "output_type": "stream",
          "name": "stdout",
          "text": [
            "./matrix_operations_lib.so\n"
          ]
        }
      ]
    },
    {
      "cell_type": "code",
      "source": [
        "#%%writefile multiply_matrices_ctypes.py\n",
        "# вызов из python-кода\n",
        "import ctypes\n",
        "\n",
        "# Загрузите динамическую библиотеку\n",
        "lib = ctypes.CDLL('./matrix_operations_lib.so')\n",
        "\n",
        "# Определяем типы аргументов и возвращаемое значение функции\n",
        "lib.multiply_matrices.argtypes = [ctypes.POINTER(ctypes.POINTER(ctypes.c_int)),\n",
        "                                  ctypes.POINTER(ctypes.POINTER(ctypes.c_int)),\n",
        "                                  ctypes.c_int]\n",
        "\n",
        "lib.multiply_matrices.restype = ctypes.POINTER(ctypes.POINTER(ctypes.c_int))\n",
        "\n",
        "def create_ctypes_array(M):\n",
        "    N = len(M)\n",
        "    m = (ctypes.POINTER(ctypes.c_int) * N)()\n",
        "    for i, row in enumerate(M):\n",
        "        m[i] = (ctypes.c_int * len(row))(*row)\n",
        "    ctypes_M = m\n",
        "    return ctypes_M\n",
        "\n",
        "# Проверяем работу\n",
        "A = [[1,2],[3,4]]\n",
        "B = [[5,6],[7,8]]\n",
        "N = len(A)\n",
        "\n",
        "# Упаковываем матрицы в типы ctypes\n",
        "ctypes_A = create_ctypes_array(A)\n",
        "ctypes_B = create_ctypes_array(B)\n",
        "\n",
        "# Создание матрицы C для результата\n",
        "ctypes_C = create_ctypes_array([[0 for i in range(N)] for j in range(N)])\n",
        "\n",
        "# Вызов функции перемножения матриц\n",
        "ctypes_C = lib.multiply_matrices(ctypes_A,\n",
        "                                 ctypes_B,\n",
        "                                 N)\n",
        "\n",
        "C_result = [[ctypes_C[j][i] for i in range(N)] for j in range(N)]\n",
        "print(C_result)"
      ],
      "metadata": {
        "id": "XGCYrq2X3tkn",
        "outputId": "4a3f134f-9331-4aa8-ed6d-bb3a0b809a34",
        "colab": {
          "base_uri": "https://localhost:8080/"
        }
      },
      "id": "XGCYrq2X3tkn",
      "execution_count": 35,
      "outputs": [
        {
          "output_type": "stream",
          "name": "stdout",
          "text": [
            "[[19, 22], [43, 50]]\n"
          ]
        }
      ]
    },
    {
      "cell_type": "code",
      "source": [
        "random.randint(0,10)"
      ],
      "metadata": {
        "id": "2-YvymH_SrZK",
        "outputId": "ff605c29-bb63-494c-db05-3040a1334248",
        "colab": {
          "base_uri": "https://localhost:8080/"
        }
      },
      "id": "2-YvymH_SrZK",
      "execution_count": 49,
      "outputs": [
        {
          "output_type": "execute_result",
          "data": {
            "text/plain": [
              "0"
            ]
          },
          "metadata": {},
          "execution_count": 49
        }
      ]
    },
    {
      "cell_type": "code",
      "source": [
        "import random\n",
        "\n",
        "\n",
        "\n",
        "[[random.randint(0,N) for i in range(10)] for j in range(10)]"
      ],
      "metadata": {
        "id": "A9Qv1wNkRF0F",
        "outputId": "4f35e2e7-db61-4506-c920-41cc8914799d",
        "colab": {
          "base_uri": "https://localhost:8080/"
        }
      },
      "id": "A9Qv1wNkRF0F",
      "execution_count": 54,
      "outputs": [
        {
          "output_type": "execute_result",
          "data": {
            "text/plain": [
              "[[1, 1, 2, 0, 1, 2, 2, 1, 0, 1],\n",
              " [2, 2, 0, 2, 0, 1, 0, 0, 1, 2],\n",
              " [1, 2, 1, 1, 2, 0, 0, 1, 2, 0],\n",
              " [0, 1, 1, 2, 1, 1, 1, 0, 1, 2],\n",
              " [1, 0, 0, 2, 1, 0, 2, 1, 1, 0],\n",
              " [1, 1, 1, 1, 1, 1, 0, 0, 1, 1],\n",
              " [0, 1, 0, 0, 1, 2, 0, 1, 1, 2],\n",
              " [0, 2, 0, 2, 2, 2, 2, 2, 1, 0],\n",
              " [0, 2, 0, 0, 1, 1, 2, 0, 1, 0],\n",
              " [2, 2, 1, 2, 1, 0, 0, 2, 0, 1]]"
            ]
          },
          "metadata": {},
          "execution_count": 54
        }
      ]
    },
    {
      "cell_type": "code",
      "source": [
        "# замер скорости для матрицы N=2048\n",
        "from random import randint\n",
        "N = 2048\n",
        "\n",
        "ctypes_A = create_ctypes_array([[randint(0,N) for i in range(N)] for j in range(N)])\n",
        "ctypes_B = create_ctypes_array([[randint(0,N) for i in range(N)] for j in range(N)])\n",
        "ctypes_C = create_ctypes_array([[0 for i in range(N)] for j in range(N)])\n"
      ],
      "metadata": {
        "id": "CBQaEJteQraE"
      },
      "id": "CBQaEJteQraE",
      "execution_count": 55,
      "outputs": []
    },
    {
      "cell_type": "code",
      "source": [
        "ctypes_C = lib.multiply_matrices(ctypes_A,\n",
        "                                 ctypes_B,\n",
        "                                 N)\n"
      ],
      "metadata": {
        "id": "OP9iI8DwUK0I"
      },
      "id": "OP9iI8DwUK0I",
      "execution_count": null,
      "outputs": []
    },
    {
      "cell_type": "code",
      "source": [],
      "metadata": {
        "id": "E7TCsuh3UTjr"
      },
      "id": "E7TCsuh3UTjr",
      "execution_count": null,
      "outputs": []
    },
    {
      "cell_type": "code",
      "source": [],
      "metadata": {
        "id": "Fu4p2lmUPk_O",
        "outputId": "0e33cc07-78d9-4f43-ce68-8e78d457fe80",
        "colab": {
          "base_uri": "https://localhost:8080/"
        }
      },
      "id": "Fu4p2lmUPk_O",
      "execution_count": 56,
      "outputs": [
        {
          "output_type": "execute_result",
          "data": {
            "text/plain": [
              "<__main__.LP_c_int_Array_2048 at 0x7dd0372d4290>"
            ]
          },
          "metadata": {},
          "execution_count": 56
        }
      ]
    },
    {
      "cell_type": "code",
      "source": [
        "print(\"Результат перемножения матриц:\")\n",
        "for i row in C_result:\n",
        "    print(row)\n",
        "    for i in row:\n",
        "        print(i, i.contents)"
      ],
      "metadata": {
        "id": "e82hFWBkK_WF",
        "outputId": "60d40d88-7f1b-49a4-850e-b086bd6236e4",
        "colab": {
          "base_uri": "https://localhost:8080/"
        }
      },
      "id": "e82hFWBkK_WF",
      "execution_count": 11,
      "outputs": [
        {
          "output_type": "stream",
          "name": "stdout",
          "text": [
            "Результат перемножения матриц:\n",
            "[<__main__.LP_c_int object at 0x7dd0372055b0>, <__main__.LP_c_int object at 0x7dd0372056d0>]\n",
            "<__main__.LP_c_int object at 0x7dd0372055b0> c_int(19)\n",
            "<__main__.LP_c_int object at 0x7dd0372056d0> c_int(43)\n",
            "[<__main__.LP_c_int object at 0x7dd0372d4710>, <__main__.LP_c_int object at 0x7dd0372d47a0>]\n",
            "<__main__.LP_c_int object at 0x7dd0372d4710> c_int(2832)\n",
            "<__main__.LP_c_int object at 0x7dd0372d47a0> c_int(2832)\n"
          ]
        }
      ]
    },
    {
      "cell_type": "code",
      "source": [
        "ctypes_C[0][0], ctypes_C[0][1], ctypes_C[1][0], ctypes_C[1][1]"
      ],
      "metadata": {
        "id": "8r_FPbhGLayW",
        "outputId": "8c337c8e-8aa7-431d-8e79-aba9804ee942",
        "colab": {
          "base_uri": "https://localhost:8080/"
        }
      },
      "id": "8r_FPbhGLayW",
      "execution_count": 21,
      "outputs": [
        {
          "output_type": "execute_result",
          "data": {
            "text/plain": [
              "(19, 22, 43, 50)"
            ]
          },
          "metadata": {},
          "execution_count": 21
        }
      ]
    },
    {
      "cell_type": "code",
      "source": [
        "C_result = [[ctypes_C[j][i] for i in range(N)]] for j in range(N)]]"
      ],
      "metadata": {
        "id": "rx3JmFu8M8CQ",
        "outputId": "663c3fc2-64f9-4352-d81c-ac86898621b4",
        "colab": {
          "base_uri": "https://localhost:8080/"
        }
      },
      "id": "rx3JmFu8M8CQ",
      "execution_count": 25,
      "outputs": [
        {
          "output_type": "execute_result",
          "data": {
            "text/plain": [
              "[[19, 22], [43, 50]]"
            ]
          },
          "metadata": {},
          "execution_count": 25
        }
      ]
    },
    {
      "cell_type": "code",
      "source": [],
      "metadata": {
        "id": "oI6TQD77Ltb6"
      },
      "id": "oI6TQD77Ltb6",
      "execution_count": null,
      "outputs": []
    },
    {
      "cell_type": "code",
      "source": [
        "!python ./multiply_matrices_ctypes.py"
      ],
      "metadata": {
        "id": "iIiAsyVdJ7XE",
        "outputId": "649b9c44-23de-47d3-f155-4ca4ef4715cb",
        "colab": {
          "base_uri": "https://localhost:8080/"
        }
      },
      "id": "iIiAsyVdJ7XE",
      "execution_count": 7,
      "outputs": [
        {
          "output_type": "stream",
          "name": "stdout",
          "text": [
            "multiply_matrix: Matrix a:\n",
            "1 2 \n",
            "3 4 \n",
            "multiply_matrix: Matrix b:\n",
            "5 6 \n",
            "7 8 \n",
            "multiply_matrix: Matrix c (result):\n",
            "19 22 \n",
            "43 50 \n",
            "\n",
            "Результат перемножения матриц:\n",
            "Traceback (most recent call last):\n",
            "  File \"/content/./multiply_matrices_ctypes.py\", line 47, in <module>\n",
            "    print(row.content)\n",
            "          ^^^^^^^^^^^\n",
            "AttributeError: 'list' object has no attribute 'content'\n"
          ]
        }
      ]
    },
    {
      "cell_type": "code",
      "source": [
        "for i in C_result:\n",
        "    print(i)"
      ],
      "metadata": {
        "colab": {
          "base_uri": "https://localhost:8080/"
        },
        "id": "AYsC7sf9OLVH",
        "outputId": "9f264fd3-501b-4548-e560-e069ea78e72c"
      },
      "id": "AYsC7sf9OLVH",
      "execution_count": 3,
      "outputs": [
        {
          "output_type": "stream",
          "name": "stdout",
          "text": [
            "[<__main__.LP_c_int object at 0x7dd037205d00>, <__main__.LP_c_int object at 0x7dd037205d90>]\n",
            "[<__main__.LP_c_int object at 0x7dd037205e20>, <__main__.LP_c_int object at 0x7dd037205eb0>]\n"
          ]
        }
      ]
    },
    {
      "cell_type": "code",
      "source": [
        "ctypes.POINTER(ctypes.POINTER(ctypes.c_int))(A_ctypes)"
      ],
      "metadata": {
        "colab": {
          "base_uri": "https://localhost:8080/"
        },
        "id": "kJRDJMcDNv-J",
        "outputId": "18fe951c-da87-41b3-adf8-6ee7cf3c23e9"
      },
      "id": "kJRDJMcDNv-J",
      "execution_count": 11,
      "outputs": [
        {
          "output_type": "execute_result",
          "data": {
            "text/plain": [
              "<__main__.LP_LP_c_int at 0x7c4f7f257020>"
            ]
          },
          "metadata": {},
          "execution_count": 11
        }
      ]
    },
    {
      "cell_type": "code",
      "source": [
        "A_ctypes"
      ],
      "metadata": {
        "colab": {
          "base_uri": "https://localhost:8080/"
        },
        "id": "KaLQbJ5ZM5S6",
        "outputId": "5fbbce11-3952-4127-b5ee-56a09ec19ca3"
      },
      "id": "KaLQbJ5ZM5S6",
      "execution_count": 4,
      "outputs": [
        {
          "output_type": "execute_result",
          "data": {
            "text/plain": [
              "<__main__.c_int_Array_4 at 0x7c4f7f256450>"
            ]
          },
          "metadata": {},
          "execution_count": 4
        }
      ]
    },
    {
      "cell_type": "code",
      "source": [
        "import ctypes\n",
        "\n",
        "# Load the C library (libc)\n",
        "libc = ctypes.CDLL(None)  # This loads the standard C library\n",
        "\n",
        "# Define the argument types for printf\n",
        "libc.printf.argtypes = [ctypes.c_char_p]\n",
        "\n",
        "# Call the printf function\n",
        "message = b\"Hello, world from ctypes!\\n\"  # `b` makes it a byte string\n",
        "libc.printf(message)"
      ],
      "metadata": {
        "colab": {
          "base_uri": "https://localhost:8080/"
        },
        "id": "GPSWRB6KAaiK",
        "outputId": "7556031a-e49f-4af5-8814-41f545aa1a2f"
      },
      "id": "GPSWRB6KAaiK",
      "execution_count": 1,
      "outputs": [
        {
          "output_type": "execute_result",
          "data": {
            "text/plain": [
              "26"
            ]
          },
          "metadata": {},
          "execution_count": 1
        }
      ]
    },
    {
      "cell_type": "code",
      "source": [
        "[[0] * N for _ in range(N)]"
      ],
      "metadata": {
        "colab": {
          "base_uri": "https://localhost:8080/"
        },
        "id": "8eYiHpIXtkke",
        "outputId": "31bd9f5a-1f00-4ea3-eec6-0f428eaad839"
      },
      "id": "8eYiHpIXtkke",
      "execution_count": 18,
      "outputs": [
        {
          "output_type": "execute_result",
          "data": {
            "text/plain": [
              "[[0, 0], [0, 0]]"
            ]
          },
          "metadata": {},
          "execution_count": 18
        }
      ]
    },
    {
      "cell_type": "code",
      "source": [
        "!python ./muliply_matrices_ctypes.py"
      ],
      "metadata": {
        "id": "HJ3krLg3CNAj",
        "outputId": "a43fbd6a-b0a4-44af-db28-950b6730f276",
        "colab": {
          "base_uri": "https://localhost:8080/"
        }
      },
      "id": "HJ3krLg3CNAj",
      "execution_count": null,
      "outputs": [
        {
          "output_type": "stream",
          "name": "stdout",
          "text": [
            "Результат перемножения матриц:\n",
            "[5, 6]\n",
            "[0, 0]\n"
          ]
        }
      ]
    },
    {
      "cell_type": "code",
      "source": [
        "for row in A:\n",
        "    print(row)"
      ],
      "metadata": {
        "id": "5u8mmJlu-SJH",
        "outputId": "047cc2f8-2226-48dd-fcb8-25953096cfdf",
        "colab": {
          "base_uri": "https://localhost:8080/"
        }
      },
      "id": "5u8mmJlu-SJH",
      "execution_count": null,
      "outputs": [
        {
          "output_type": "stream",
          "name": "stdout",
          "text": [
            "[1, 2]\n",
            "[3, 4]\n"
          ]
        }
      ]
    },
    {
      "cell_type": "code",
      "source": [
        "C_ctypes = create_ctypes_array([[0] * N for _ in range(N)])\n",
        "for i in C_ctypes:\n",
        "    print(i)"
      ],
      "metadata": {
        "id": "G3gEuYK29oxb",
        "outputId": "6f3a936c-d868-4a3b-a87c-0da2b24ab7e3",
        "colab": {
          "base_uri": "https://localhost:8080/"
        }
      },
      "id": "G3gEuYK29oxb",
      "execution_count": null,
      "outputs": [
        {
          "output_type": "stream",
          "name": "stdout",
          "text": [
            "0\n",
            "0\n",
            "0\n",
            "0\n"
          ]
        }
      ]
    },
    {
      "cell_type": "code",
      "source": [
        "matrix = [[1, 2], [3, 4]]\n",
        "N = len(matrix)\n",
        "array_type = ctypes.c_int * (N * N)\n",
        "flat_array = array_type(*[item for row in matrix for item in row])\n"
      ],
      "metadata": {
        "id": "ASJJR9X_81P0"
      },
      "id": "ASJJR9X_81P0",
      "execution_count": null,
      "outputs": []
    },
    {
      "cell_type": "code",
      "source": [
        "array_type(*[item for row in matrix for item in row])"
      ],
      "metadata": {
        "id": "tk-uQBE89B8j",
        "outputId": "07eff719-6b4d-4676-92ba-69cde24a0f34",
        "colab": {
          "base_uri": "https://localhost:8080/"
        }
      },
      "id": "tk-uQBE89B8j",
      "execution_count": null,
      "outputs": [
        {
          "output_type": "execute_result",
          "data": {
            "text/plain": [
              "<__main__.c_int_Array_4 at 0x7ce43ac52600>"
            ]
          },
          "metadata": {},
          "execution_count": 111
        }
      ]
    },
    {
      "cell_type": "code",
      "source": [
        "for i in B_ctypes:\n",
        "    print(i)"
      ],
      "metadata": {
        "id": "dx2NI_J96jlM",
        "outputId": "e53ae220-ef86-474b-d6af-8a33d91d3e5d",
        "colab": {
          "base_uri": "https://localhost:8080/"
        }
      },
      "id": "dx2NI_J96jlM",
      "execution_count": null,
      "outputs": [
        {
          "output_type": "stream",
          "name": "stdout",
          "text": [
            "5\n",
            "6\n",
            "7\n",
            "8\n"
          ]
        }
      ]
    },
    {
      "cell_type": "code",
      "source": [],
      "metadata": {
        "id": "10Q0i-FK260K"
      },
      "id": "10Q0i-FK260K",
      "execution_count": null,
      "outputs": []
    },
    {
      "cell_type": "code",
      "source": [],
      "metadata": {
        "id": "uD1sLcDi264-"
      },
      "id": "uD1sLcDi264-",
      "execution_count": null,
      "outputs": []
    },
    {
      "cell_type": "code",
      "source": [],
      "metadata": {
        "id": "R2SUEXgy268I"
      },
      "id": "R2SUEXgy268I",
      "execution_count": null,
      "outputs": []
    },
    {
      "cell_type": "code",
      "source": [],
      "metadata": {
        "id": "WMxnJv-027A4"
      },
      "id": "WMxnJv-027A4",
      "execution_count": null,
      "outputs": []
    },
    {
      "cell_type": "markdown",
      "id": "ec657595-8781-4d82-bf05-5c66df1f2f10",
      "metadata": {
        "id": "ec657595-8781-4d82-bf05-5c66df1f2f10"
      },
      "source": [
        "БОНУСЫ:\n",
        "\n",
        "1. Дополнительные баллы за использование функций BLAS/cBLAS/openBLAS;\n",
        "2. Дополнительные баллы за вызов теста LINPACK на вашем компьютере;\n",
        "3. Супербонус: реализовать метод Штрассена перемножения квадратных матриц"
      ]
    },
    {
      "cell_type": "code",
      "execution_count": null,
      "id": "96d6f952-62e0-4c1f-a4a6-97210a4322e8",
      "metadata": {
        "id": "96d6f952-62e0-4c1f-a4a6-97210a4322e8"
      },
      "outputs": [],
      "source": []
    }
  ],
  "metadata": {
    "kernelspec": {
      "display_name": "Python 3 (ipykernel)",
      "language": "python",
      "name": "python3"
    },
    "language_info": {
      "codemirror_mode": {
        "name": "ipython",
        "version": 3
      },
      "file_extension": ".py",
      "mimetype": "text/x-python",
      "name": "python",
      "nbconvert_exporter": "python",
      "pygments_lexer": "ipython3",
      "version": "3.13.5"
    },
    "colab": {
      "provenance": [],
      "toc_visible": true,
      "include_colab_link": true
    }
  },
  "nbformat": 4,
  "nbformat_minor": 5
}