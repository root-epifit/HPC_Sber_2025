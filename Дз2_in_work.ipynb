{
  "cells": [
    {
      "cell_type": "markdown",
      "metadata": {
        "id": "view-in-github",
        "colab_type": "text"
      },
      "source": [
        "<a href=\"https://colab.research.google.com/github/root-epifit/HPC_Sber_2025/blob/main/%D0%94%D0%B72_in_work.ipynb\" target=\"_parent\"><img src=\"https://colab.research.google.com/assets/colab-badge.svg\" alt=\"Open In Colab\"/></a>"
      ]
    },
    {
      "cell_type": "markdown",
      "id": "fd38da4b-c1a0-435c-b4ef-f53409aa1b55",
      "metadata": {
        "id": "fd38da4b-c1a0-435c-b4ef-f53409aa1b55"
      },
      "source": [
        "## Домашнее задание 2\n",
        "\n",
        "### связь Python с программами на C/C++"
      ]
    },
    {
      "cell_type": "markdown",
      "id": "b732f8c0-2e02-4e65-8e77-393d973d1542",
      "metadata": {
        "id": "b732f8c0-2e02-4e65-8e77-393d973d1542"
      },
      "source": [
        "1. Реализовать на языке C/C++ классические операции перемножения квадратных матриц и умножения матрицы на вектор (15%)"
      ]
    },
    {
      "cell_type": "code",
      "execution_count": null,
      "id": "742ca1f6-e746-4d0f-830d-503c56503f7a",
      "metadata": {
        "id": "742ca1f6-e746-4d0f-830d-503c56503f7a"
      },
      "outputs": [],
      "source": [
        "# можно использовать %%writefile и оформить сишный код прямо здесь\n",
        "# но наверное удобней будет писать его напрямую в отдельных файлах\n",
        "# и прислать вместе с домашним заданием"
      ]
    },
    {
      "cell_type": "code",
      "source": [
        "%%writefile matrix_operations.c\n",
        "\n",
        "#include <stdio.h>\n",
        "#include <stdlib.h>\n",
        "\n",
        "#define MAX_SIZE 8192 // Максимальный размер матриц и векторов\n",
        "\n",
        "int A[MAX_SIZE][MAX_SIZE] = {};\n",
        "int B[MAX_SIZE][MAX_SIZE] = {};\n",
        "int C[MAX_SIZE][MAX_SIZE] = {};\n",
        "\n",
        "\n",
        "// Функция для перемножения квадратных матриц\n",
        "void multiply_matrices(int A[MAX_SIZE][MAX_SIZE], int B[MAX_SIZE][MAX_SIZE], int C[MAX_SIZE][MAX_SIZE], int N) {\n",
        "    for (int i = 0; i < N; i++) {\n",
        "        for (int j = 0; j < N; j++) {\n",
        "            C[i][j] = 0;  // Инициализируем элемент C[i][j]\n",
        "            for (int k = 0; k < N; k++) {\n",
        "                C[i][j] += A[i][k] * B[k][j];  // Умножаем и суммируем\n",
        "            }\n",
        "        }\n",
        "    }\n",
        "}\n",
        "\n",
        "// Функция для умножения матрицы на вектор\n",
        "void multiply_matrix_vector(int A[MAX_SIZE][MAX_SIZE], int B[MAX_SIZE], int C[MAX_SIZE], int N) {\n",
        "    for (int i = 0; i < N; i++) {\n",
        "        C[i] = 0;  // Инициализируем элемент C[i]\n",
        "        for (int j = 0; j < N; j++) {\n",
        "            C[i] += A[i][j] * B[j];  // Умножаем и суммируем\n",
        "        }\n",
        "    }\n",
        "}\n",
        "\n",
        "// Функция для вывода матрицы\n",
        "void print_matrix(int A[MAX_SIZE][MAX_SIZE], int N) {\n",
        "    for (int i = 0; i < N; i++) {\n",
        "        for (int j = 0; j < N; j++) {\n",
        "            printf(\"%d \", A[i][j]);\n",
        "        }\n",
        "        printf(\"\\n\");\n",
        "    }\n",
        "}\n",
        "\n",
        "// Функция для вывода вектора\n",
        "void print_vector(int B[MAX_SIZE], int N) {\n",
        "    for (int i = 0; i < N; i++) {\n",
        "        printf(\"%d \", B[i]);\n",
        "    }\n",
        "    printf(\"\\n\");\n",
        "}\n",
        "\n",
        "int main (int argc, char *argv[]) {\n",
        "//int main(){\n",
        "\n",
        "    char *a = argv[1];\n",
        "    //printf(\"a = %s\\n\", a);\n",
        "\n",
        "    int N = atoi(a);\n",
        "    printf(\"N = %d\\n\", N);\n",
        "\n",
        "    // Инициализация первой матрицы\n",
        "    // printf(\"Инициализация первой матрицу A (%d x %d)...\\n\", N, N);\n",
        "    for (int i = 0; i < N; i++) {\n",
        "        for (int j = 0; j < N; j++) {\n",
        "            A[i][j] = i*N + j;\n",
        "        }\n",
        "    }\n",
        "\n",
        "    // Инициализация второй матрицы\n",
        "    // printf(\"Инициализация второй матрицы B (%d x %d)...\\n\", N, N);\n",
        "    for (int i = 0; i < N; i++) {\n",
        "        for (int j = 0; j < N; j++) {\n",
        "            B[i][j] = i*N +j;\n",
        "        }\n",
        "    }\n",
        "\n",
        "    // Перемножение матриц\n",
        "    printf(\"Перемножение матриц C = A * B ...\\n\");\n",
        "    multiply_matrices(A, B, C, N);\n",
        "    //printf(\"Результат перемножения матриц C = A * B:\\n\");\n",
        "    //print_matrix(C, N);\n",
        "\n",
        "    // Умножение матрицы A на вектор\n",
        "    int vector[MAX_SIZE];\n",
        "    int result_vector[MAX_SIZE];\n",
        "\n",
        "    //printf(\"Инициализация ветора размером %d ...\\n\", N);\n",
        "    for (int i = 0; i < N; i++) {\n",
        "        vector[i] = i;\n",
        "    }\n",
        "\n",
        "    printf(\"Умножение матрицы A на вектор ...\\n\");\n",
        "    multiply_matrix_vector(A, vector, result_vector, N);\n",
        "    //printf(\"Результат умножения матрицы A на вектор:\\n\");\n",
        "    //print_vector(result_vector, N);\n",
        "\n",
        "    printf(\"Завершил работу\\n\");\n",
        "    return 0;\n",
        "}\n"
      ],
      "metadata": {
        "colab": {
          "base_uri": "https://localhost:8080/"
        },
        "id": "SwaLpXpoO8ri",
        "outputId": "e4914421-694b-4dfb-95d4-19844594d6de"
      },
      "id": "SwaLpXpoO8ri",
      "execution_count": 39,
      "outputs": [
        {
          "output_type": "stream",
          "name": "stdout",
          "text": [
            "Overwriting matrix_operations.c\n"
          ]
        }
      ]
    },
    {
      "cell_type": "code",
      "source": [
        "!gcc matrix_operations.c -o matrix_operations"
      ],
      "metadata": {
        "id": "VOdutzy4MViG"
      },
      "id": "VOdutzy4MViG",
      "execution_count": 46,
      "outputs": []
    },
    {
      "cell_type": "code",
      "source": [
        "%%timeit -r 1 -n 1\n",
        "!./matrix_operations 512"
      ],
      "metadata": {
        "colab": {
          "base_uri": "https://localhost:8080/"
        },
        "id": "Z23PaDjvfdeR",
        "outputId": "7b7814db-4e7c-45e2-c618-2a4309d74299"
      },
      "id": "Z23PaDjvfdeR",
      "execution_count": 47,
      "outputs": [
        {
          "output_type": "stream",
          "name": "stdout",
          "text": [
            "N = 512\n",
            "Перемножение матриц C = A * B ...\n",
            "Умножение матрицы A на вектор ...\n",
            "Завершил работу\n",
            "1.51 s ± 0 ns per loop (mean ± std. dev. of 1 run, 1 loop each)\n"
          ]
        }
      ]
    },
    {
      "cell_type": "markdown",
      "id": "f4433714-9fea-4011-b476-133bb0703bdb",
      "metadata": {
        "id": "f4433714-9fea-4011-b476-133bb0703bdb"
      },
      "source": [
        "2. Разделить программу на несколько модулей и провести сборку через статическую линковку (25%)"
      ]
    },
    {
      "cell_type": "code",
      "execution_count": null,
      "id": "b563e47a-d118-4508-b8da-9ba28276c86f",
      "metadata": {
        "id": "b563e47a-d118-4508-b8da-9ba28276c86f"
      },
      "outputs": [],
      "source": [
        "# можно используя знак ! запустить команду сборки прямо отсюда (так будет видно, что пункт 2 выполнен"
      ]
    },
    {
      "cell_type": "code",
      "source": [
        "%%writefile matrix_operations.h\n",
        "#define MAX_SIZE 8192 // Максимальный размер матриц и векторов\n",
        "\n",
        "void multiply_matrices(int A[MAX_SIZE][MAX_SIZE], int B[MAX_SIZE][MAX_SIZE], int C[MAX_SIZE][MAX_SIZE], int N);\n",
        "void multiply_matrix_vector(int A[MAX_SIZE][MAX_SIZE], int B[MAX_SIZE], int C[MAX_SIZE], int N);\n",
        "\n",
        "extern int A[MAX_SIZE][MAX_SIZE];\n",
        "extern int B[MAX_SIZE][MAX_SIZE];\n",
        "extern int C[MAX_SIZE][MAX_SIZE];"
      ],
      "metadata": {
        "id": "VdRFAhpuntHR",
        "outputId": "4711272a-b67b-4f3a-b175-484c68f6b58a",
        "colab": {
          "base_uri": "https://localhost:8080/"
        }
      },
      "id": "VdRFAhpuntHR",
      "execution_count": 75,
      "outputs": [
        {
          "output_type": "stream",
          "name": "stdout",
          "text": [
            "Overwriting matrix_operations.h\n"
          ]
        }
      ]
    },
    {
      "cell_type": "code",
      "source": [
        "%%writefile matrix_operations_lib.c\n",
        "\n",
        "#include <stdio.h>\n",
        "#include <stdlib.h>\n",
        "\n",
        "#include \"matrix_operations.h\"\n",
        "\n",
        "int A[MAX_SIZE][MAX_SIZE] = {};\n",
        "int B[MAX_SIZE][MAX_SIZE] = {};\n",
        "int C[MAX_SIZE][MAX_SIZE] = {};\n",
        "\n",
        "// Функция для перемножения квадратных матриц\n",
        "void multiply_matrices(int A[MAX_SIZE][MAX_SIZE], int B[MAX_SIZE][MAX_SIZE], int C[MAX_SIZE][MAX_SIZE], int N) {\n",
        "    for (int i = 0; i < N; i++) {\n",
        "        for (int j = 0; j < N; j++) {\n",
        "            C[i][j] = 0;  // Инициализируем элемент C[i][j]\n",
        "            for (int k = 0; k < N; k++) {\n",
        "                C[i][j] += A[i][k] * B[k][j];  // Умножаем и суммируем\n",
        "            }\n",
        "        }\n",
        "    }\n",
        "}\n",
        "\n",
        "// Функция для умножения матрицы на вектор\n",
        "void multiply_matrix_vector(int A[MAX_SIZE][MAX_SIZE], int B[MAX_SIZE], int C[MAX_SIZE], int N) {\n",
        "    for (int i = 0; i < N; i++) {\n",
        "        C[i] = 0;  // Инициализируем элемент C[i]\n",
        "        for (int j = 0; j < N; j++) {\n",
        "            C[i] += A[i][j] * B[j];  // Умножаем и суммируем\n",
        "        }\n",
        "    }\n",
        "}\n",
        "\n",
        "// Функция для вывода матрицы\n",
        "void print_matrix(int A[MAX_SIZE][MAX_SIZE], int N) {\n",
        "    for (int i = 0; i < N; i++) {\n",
        "        for (int j = 0; j < N; j++) {\n",
        "            printf(\"%d \", A[i][j]);\n",
        "        }\n",
        "        printf(\"\\n\");\n",
        "    }\n",
        "}\n",
        "\n",
        "// Функция для вывода вектора\n",
        "void print_vector(int B[MAX_SIZE], int N) {\n",
        "    for (int i = 0; i < N; i++) {\n",
        "        printf(\"%d \", B[i]);\n",
        "    }\n",
        "    printf(\"\\n\");\n",
        "}\n",
        "\n"
      ],
      "metadata": {
        "id": "F7mKDWInlx-7",
        "outputId": "fda8ef3a-023d-4e8d-da5b-aed184bac72f",
        "colab": {
          "base_uri": "https://localhost:8080/"
        }
      },
      "id": "F7mKDWInlx-7",
      "execution_count": 74,
      "outputs": [
        {
          "output_type": "stream",
          "name": "stdout",
          "text": [
            "Overwriting matrix_operations_lib.c\n"
          ]
        }
      ]
    },
    {
      "cell_type": "code",
      "source": [
        "%%writefile matrix_operations_main.c\n",
        "\n",
        "#include <stdio.h>\n",
        "#include <stdlib.h>\n",
        "\n",
        "#include \"matrix_operations.h\"\n",
        "\n",
        "int main (int argc, char *argv[]) {\n",
        "//int main(){\n",
        "\n",
        "    char *a = argv[1];\n",
        "    //printf(\"a = %s\\n\", a);\n",
        "\n",
        "    int N = atoi(a);\n",
        "    printf(\"N = %d\\n\", N);\n",
        "\n",
        "    // Инициализация первой матрицы\n",
        "    // printf(\"Инициализация первой матрицу A (%d x %d)...\\n\", N, N);\n",
        "    for (int i = 0; i < N; i++) {\n",
        "        for (int j = 0; j < N; j++) {\n",
        "            A[i][j] = i*N + j;\n",
        "        }\n",
        "    }\n",
        "\n",
        "    // Инициализация второй матрицы\n",
        "    // printf(\"Инициализация второй матрицы B (%d x %d)...\\n\", N, N);\n",
        "    for (int i = 0; i < N; i++) {\n",
        "        for (int j = 0; j < N; j++) {\n",
        "            B[i][j] = i*N +j;\n",
        "        }\n",
        "    }\n",
        "\n",
        "    // Перемножение матриц\n",
        "    printf(\"Перемножение матриц C = A * B ...\\n\");\n",
        "    multiply_matrices(A, B, C, N);\n",
        "    //printf(\"Результат перемножения матриц C = A * B:\\n\");\n",
        "    //print_matrix(C, N);\n",
        "\n",
        "    // Умножение матрицы A на вектор\n",
        "    int vector[MAX_SIZE];\n",
        "    int result_vector[MAX_SIZE];\n",
        "\n",
        "    //printf(\"Инициализация ветора размером %d ...\\n\", N);\n",
        "    for (int i = 0; i < N; i++) {\n",
        "        vector[i] = i;\n",
        "    }\n",
        "\n",
        "    printf(\"Умножение матрицы A на вектор ...\\n\");\n",
        "    multiply_matrix_vector(A, vector, result_vector, N);\n",
        "    //printf(\"Результат умножения матрицы A на вектор:\\n\");\n",
        "    //print_vector(result_vector, N);\n",
        "\n",
        "    printf(\"Завершил работу\\n\");\n",
        "    return 0;\n",
        "}\n"
      ],
      "metadata": {
        "id": "UuW_zd8bmLrB",
        "outputId": "6fab8dca-2fc8-407c-8af6-21279772e7a3",
        "colab": {
          "base_uri": "https://localhost:8080/"
        }
      },
      "id": "UuW_zd8bmLrB",
      "execution_count": 71,
      "outputs": [
        {
          "output_type": "stream",
          "name": "stdout",
          "text": [
            "Overwriting matrix_operations_main.c\n"
          ]
        }
      ]
    },
    {
      "cell_type": "code",
      "source": [
        "!gcc -o matrix_operations_main matrix_operations_lib.c matrix_operations_main.c"
      ],
      "metadata": {
        "id": "fVR580FxnOYd"
      },
      "id": "fVR580FxnOYd",
      "execution_count": 76,
      "outputs": []
    },
    {
      "cell_type": "code",
      "source": [
        " # проверяем работу\n",
        " !./matrix_operations_main 10"
      ],
      "metadata": {
        "id": "mzbwhiwXsEZy",
        "outputId": "fa758a9e-dfa2-465c-b144-e62c5bfc301a",
        "colab": {
          "base_uri": "https://localhost:8080/"
        }
      },
      "id": "mzbwhiwXsEZy",
      "execution_count": 79,
      "outputs": [
        {
          "output_type": "stream",
          "name": "stdout",
          "text": [
            "N = 10\n",
            "Перемножение матриц C = A * B ...\n",
            "Умножение матрицы A на вектор ...\n",
            "Завершил работу\n"
          ]
        }
      ]
    },
    {
      "cell_type": "markdown",
      "id": "2147d411-a7d9-437b-9571-b8bf0247581d",
      "metadata": {
        "id": "2147d411-a7d9-437b-9571-b8bf0247581d"
      },
      "source": [
        "3. Подготовьте две сборки с флагами -g и -O3 и измерьте времена выполнения операций с N = 512, 1024, . . ., 4096 (20%)"
      ]
    },
    {
      "cell_type": "code",
      "execution_count": null,
      "id": "e89c6ab3-8a4d-42eb-847e-1b174511ea9b",
      "metadata": {
        "id": "e89c6ab3-8a4d-42eb-847e-1b174511ea9b"
      },
      "outputs": [],
      "source": [
        "# замеры можно сделать используя %%time, %%timeit\n",
        "# если комфортней работать с терминалом, то можно приложить\n",
        "# к домашнему заданию скрин с записанными временами расчетов"
      ]
    },
    {
      "cell_type": "markdown",
      "id": "7c234d8a-dc1b-48c8-b038-b4c61725cb51",
      "metadata": {
        "id": "7c234d8a-dc1b-48c8-b038-b4c61725cb51"
      },
      "source": [
        "4. Выполните вызов процедуры из Python через Ctypes/Cython/PyBind11 и измерьте времена (40%)"
      ]
    },
    {
      "cell_type": "code",
      "execution_count": null,
      "id": "09283a6c-92cb-410a-86c3-d5470d6cf954",
      "metadata": {
        "id": "09283a6c-92cb-410a-86c3-d5470d6cf954"
      },
      "outputs": [],
      "source": [
        "# можно это сделать здесь"
      ]
    },
    {
      "cell_type": "markdown",
      "id": "ec657595-8781-4d82-bf05-5c66df1f2f10",
      "metadata": {
        "id": "ec657595-8781-4d82-bf05-5c66df1f2f10"
      },
      "source": [
        "БОНУСЫ:\n",
        "\n",
        "1. Дополнительные баллы за использование функций BLAS/cBLAS/openBLAS;\n",
        "2. Дополнительные баллы за вызов теста LINPACK на вашем компьютере;\n",
        "3. Супербонус: реализовать метод Штрассена перемножения квадратных матриц"
      ]
    },
    {
      "cell_type": "code",
      "execution_count": null,
      "id": "96d6f952-62e0-4c1f-a4a6-97210a4322e8",
      "metadata": {
        "id": "96d6f952-62e0-4c1f-a4a6-97210a4322e8"
      },
      "outputs": [],
      "source": []
    }
  ],
  "metadata": {
    "kernelspec": {
      "display_name": "Python 3 (ipykernel)",
      "language": "python",
      "name": "python3"
    },
    "language_info": {
      "codemirror_mode": {
        "name": "ipython",
        "version": 3
      },
      "file_extension": ".py",
      "mimetype": "text/x-python",
      "name": "python",
      "nbconvert_exporter": "python",
      "pygments_lexer": "ipython3",
      "version": "3.13.5"
    },
    "colab": {
      "provenance": [],
      "include_colab_link": true
    }
  },
  "nbformat": 4,
  "nbformat_minor": 5
}