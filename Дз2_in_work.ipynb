{
 "cells": [
  {
   "cell_type": "markdown",
   "id": "fd38da4b-c1a0-435c-b4ef-f53409aa1b55",
   "metadata": {},
   "source": [
    "## Домашнее задание 2 \n",
    "\n",
    "### связь Python с программами на C/C++"
   ]
  },
  {
   "cell_type": "markdown",
   "id": "b732f8c0-2e02-4e65-8e77-393d973d1542",
   "metadata": {},
   "source": [
    "1. Реализовать на языке C/C++ классические операции перемножения квадратных матриц и умножения матрицы на вектор (15%)"
   ]
  },
  {
   "cell_type": "code",
   "execution_count": 2,
   "id": "742ca1f6-e746-4d0f-830d-503c56503f7a",
   "metadata": {},
   "outputs": [],
   "source": [
    "# можно использовать %%writefile и оформить сишный код прямо здесь\n",
    "# но наверное удобней будет писать его напрямую в отдельных файлах \n",
    "# и прислать вместе с домашним заданием"
   ]
  },
  {
   "cell_type": "markdown",
   "id": "f4433714-9fea-4011-b476-133bb0703bdb",
   "metadata": {},
   "source": [
    "2. Разделить программу на несколько модулей и провести сборку через статическую линковку (25%)"
   ]
  },
  {
   "cell_type": "code",
   "execution_count": null,
   "id": "b563e47a-d118-4508-b8da-9ba28276c86f",
   "metadata": {},
   "outputs": [],
   "source": [
    "# можно используя знак ! запустить команду сборки прямо отсюда (так будет видно, что пункт 2 выполнен"
   ]
  },
  {
   "cell_type": "markdown",
   "id": "2147d411-a7d9-437b-9571-b8bf0247581d",
   "metadata": {},
   "source": [
    "3. Подготовьте две сборки с флагами -g и -O3 и измерьте времена выполнения операций с N = 512, 1024, . . ., 4096 (20%)"
   ]
  },
  {
   "cell_type": "code",
   "execution_count": null,
   "id": "e89c6ab3-8a4d-42eb-847e-1b174511ea9b",
   "metadata": {},
   "outputs": [],
   "source": [
    "# замеры можно сделать используя %%time, %%timeit\n",
    "# если комфортней работать с терминалом, то можно приложить \n",
    "# к домашнему заданию скрин с записанными временами расчетов"
   ]
  },
  {
   "cell_type": "markdown",
   "id": "7c234d8a-dc1b-48c8-b038-b4c61725cb51",
   "metadata": {},
   "source": [
    "4. Выполните вызов процедуры из Python через Ctypes/Cython/PyBind11 и измерьте времена (40%)"
   ]
  },
  {
   "cell_type": "code",
   "execution_count": 3,
   "id": "09283a6c-92cb-410a-86c3-d5470d6cf954",
   "metadata": {},
   "outputs": [],
   "source": [
    "# можно это сделать здесь"
   ]
  },
  {
   "cell_type": "markdown",
   "id": "ec657595-8781-4d82-bf05-5c66df1f2f10",
   "metadata": {},
   "source": [
    "БОНУСЫ:\n",
    "\n",
    "1. Дополнительные баллы за использование функций BLAS/cBLAS/openBLAS;\n",
    "2. Дополнительные баллы за вызов теста LINPACK на вашем компьютере;\n",
    "3. Супербонус: реализовать метод Штрассена перемножения квадратных матриц"
   ]
  },
  {
   "cell_type": "code",
   "execution_count": null,
   "id": "96d6f952-62e0-4c1f-a4a6-97210a4322e8",
   "metadata": {},
   "outputs": [],
   "source": []
  }
 ],
 "metadata": {
  "kernelspec": {
   "display_name": "Python 3 (ipykernel)",
   "language": "python",
   "name": "python3"
  },
  "language_info": {
   "codemirror_mode": {
    "name": "ipython",
    "version": 3
   },
   "file_extension": ".py",
   "mimetype": "text/x-python",
   "name": "python",
   "nbconvert_exporter": "python",
   "pygments_lexer": "ipython3",
   "version": "3.13.5"
  }
 },
 "nbformat": 4,
 "nbformat_minor": 5
}
