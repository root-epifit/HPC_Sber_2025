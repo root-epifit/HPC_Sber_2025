{
  "cells": [
    {
      "cell_type": "markdown",
      "metadata": {
        "id": "view-in-github",
        "colab_type": "text"
      },
      "source": [
        "<a href=\"https://colab.research.google.com/github/root-epifit/HPC_Sber_2025/blob/main/%D0%94%D0%B72_in_work.ipynb\" target=\"_parent\"><img src=\"https://colab.research.google.com/assets/colab-badge.svg\" alt=\"Open In Colab\"/></a>"
      ]
    },
    {
      "cell_type": "markdown",
      "id": "fd38da4b-c1a0-435c-b4ef-f53409aa1b55",
      "metadata": {
        "id": "fd38da4b-c1a0-435c-b4ef-f53409aa1b55"
      },
      "source": [
        "## Домашнее задание 2\n",
        "\n",
        "### связь Python с программами на C/C++"
      ]
    },
    {
      "cell_type": "markdown",
      "id": "b732f8c0-2e02-4e65-8e77-393d973d1542",
      "metadata": {
        "id": "b732f8c0-2e02-4e65-8e77-393d973d1542"
      },
      "source": [
        "1. Реализовать на языке C/C++ классические операции перемножения квадратных матриц и умножения матрицы на вектор (15%)"
      ]
    },
    {
      "cell_type": "code",
      "execution_count": null,
      "id": "742ca1f6-e746-4d0f-830d-503c56503f7a",
      "metadata": {
        "id": "742ca1f6-e746-4d0f-830d-503c56503f7a"
      },
      "outputs": [],
      "source": [
        "# можно использовать %%writefile и оформить сишный код прямо здесь\n",
        "# но наверное удобней будет писать его напрямую в отдельных файлах\n",
        "# и прислать вместе с домашним заданием"
      ]
    },
    {
      "cell_type": "markdown",
      "source": [
        "### Experimental"
      ],
      "metadata": {
        "id": "ZDSOtCygtxgd"
      },
      "id": "ZDSOtCygtxgd"
    },
    {
      "cell_type": "code",
      "source": [
        "%%writefile matrix_operations.c\n",
        "\n",
        "#include <stdio.h>\n",
        "#include <stdlib.h>\n",
        "\n",
        "#define MAX_SIZE 8192 // Максимальный размер матриц и векторов\n",
        "\n",
        "int A[MAX_SIZE][MAX_SIZE] = {};\n",
        "int B[MAX_SIZE][MAX_SIZE] = {};\n",
        "int C[MAX_SIZE][MAX_SIZE] = {};\n",
        "\n",
        "\n",
        "// Функция для перемножения квадратных матриц\n",
        "void multiply_matrices(int A[MAX_SIZE][MAX_SIZE], int B[MAX_SIZE][MAX_SIZE], int C[MAX_SIZE][MAX_SIZE], int N) {\n",
        "    for (int i = 0; i < N; i++) {\n",
        "        for (int j = 0; j < N; j++) {\n",
        "            C[i][j] = 0;  // Инициализируем элемент C[i][j]\n",
        "            for (int k = 0; k < N; k++) {\n",
        "                C[i][j] += A[i][k] * B[k][j];  // Умножаем и суммируем\n",
        "            }\n",
        "        }\n",
        "    }\n",
        "}\n",
        "\n",
        "// Функция для умножения матрицы на вектор\n",
        "void multiply_matrix_vector(int A[MAX_SIZE][MAX_SIZE], int B[MAX_SIZE], int C[MAX_SIZE], int N) {\n",
        "    for (int i = 0; i < N; i++) {\n",
        "        C[i] = 0;  // Инициализируем элемент C[i]\n",
        "        for (int j = 0; j < N; j++) {\n",
        "            C[i] += A[i][j] * B[j];  // Умножаем и суммируем\n",
        "        }\n",
        "    }\n",
        "}\n",
        "\n",
        "// Функция для вывода матрицы\n",
        "void print_matrix(int A[MAX_SIZE][MAX_SIZE], int N) {\n",
        "    for (int i = 0; i < N; i++) {\n",
        "        for (int j = 0; j < N; j++) {\n",
        "            printf(\"%d \", A[i][j]);\n",
        "        }\n",
        "        printf(\"\\n\");\n",
        "    }\n",
        "}\n",
        "\n",
        "// Функция для вывода вектора\n",
        "void print_vector(int B[MAX_SIZE], int N) {\n",
        "    for (int i = 0; i < N; i++) {\n",
        "        printf(\"%d \", B[i]);\n",
        "    }\n",
        "    printf(\"\\n\");\n",
        "}\n",
        "\n",
        "int main (int argc, char *argv[]) {\n",
        "    char *a = argv[1];\n",
        "    //printf(\"a = %s\\n\", a);\n",
        "\n",
        "    int N = atoi(a);\n",
        "    printf(\"N = %d\\n\", N);\n",
        "\n",
        "    // Инициализация первой матрицы\n",
        "    printf(\"Инициализация первой матрицу A (%d x %d)...\\n\", N, N);\n",
        "    for (int i = 0; i < N; i++) {\n",
        "        for (int j = 0; j < N; j++) {\n",
        "            A[i][j] = i*N + j;\n",
        "        }\n",
        "    }\n",
        "    print_matrix(A, N);\n",
        "\n",
        "    // Инициализация второй матрицы\n",
        "    printf(\"Инициализация второй матрицы B (%d x %d)...\\n\", N, N);\n",
        "    for (int i = 0; i < N; i++) {\n",
        "        for (int j = 0; j < N; j++) {\n",
        "            B[i][j] = i*N +j;\n",
        "        }\n",
        "    }\n",
        "    print_matrix(B, N);\n",
        "\n",
        "    // Перемножение матриц\n",
        "    printf(\"Перемножение матриц C = A * B ...\\n\");\n",
        "    multiply_matrices(A, B, C, N);\n",
        "    printf(\"Результат перемножения матриц C = A * B:\\n\");\n",
        "    print_matrix(C, N);\n",
        "\n",
        "    // Умножение матрицы A на вектор\n",
        "    int vector[MAX_SIZE];\n",
        "    int result_vector[MAX_SIZE];\n",
        "\n",
        "    //printf(\"Инициализация ветора размером %d ...\\n\", N);\n",
        "    for (int i = 0; i < N; i++) {\n",
        "        vector[i] = i;\n",
        "    }\n",
        "\n",
        "    printf(\"Умножение матрицы A на вектор ...\\n\");\n",
        "    multiply_matrix_vector(A, vector, result_vector, N);\n",
        "    //printf(\"Результат умножения матрицы A на вектор:\\n\");\n",
        "    //print_vector(result_vector, N);\n",
        "\n",
        "    printf(\"Завершил работу\\n\");\n",
        "    return 0;\n",
        "}\n"
      ],
      "metadata": {
        "id": "epH8IhFatwXP"
      },
      "id": "epH8IhFatwXP",
      "execution_count": null,
      "outputs": []
    },
    {
      "cell_type": "code",
      "source": [
        "!gcc matrix_operations.c -o matrix_operations\n",
        "!./matrix_operations 2"
      ],
      "metadata": {
        "id": "q-D2Ei93twZy",
        "outputId": "10aab18e-b972-43f5-b265-633e752d2518",
        "colab": {
          "base_uri": "https://localhost:8080/"
        }
      },
      "id": "q-D2Ei93twZy",
      "execution_count": 19,
      "outputs": [
        {
          "output_type": "stream",
          "name": "stdout",
          "text": [
            "N = 2\n",
            "Инициализация первой матрицу A (2 x 2)...\n",
            "0 1 \n",
            "2 3 \n",
            "Инициализация второй матрицы B (2 x 2)...\n",
            "0 1 \n",
            "2 3 \n",
            "Перемножение матриц C = A * B ...\n",
            "Результат перемножения матриц C = A * B:\n",
            "2 3 \n",
            "6 11 \n",
            "Умножение матрицы A на вектор ...\n",
            "Завершил работу\n"
          ]
        }
      ]
    },
    {
      "cell_type": "code",
      "source": [],
      "metadata": {
        "id": "WzlkL2_gtwcO"
      },
      "id": "WzlkL2_gtwcO",
      "execution_count": null,
      "outputs": []
    },
    {
      "cell_type": "code",
      "source": [],
      "metadata": {
        "id": "pjrIKhQLtwe0"
      },
      "id": "pjrIKhQLtwe0",
      "execution_count": null,
      "outputs": []
    },
    {
      "cell_type": "code",
      "source": [],
      "metadata": {
        "id": "cowtTYA-twj3"
      },
      "id": "cowtTYA-twj3",
      "execution_count": null,
      "outputs": []
    },
    {
      "cell_type": "code",
      "source": [
        "%%writefile matrix_operations.c\n",
        "\n",
        "#include <stdio.h>\n",
        "#include <stdlib.h>\n",
        "\n",
        "#define MAX_SIZE 8192 // Максимальный размер матриц и векторов\n",
        "\n",
        "int A[MAX_SIZE][MAX_SIZE] = {};\n",
        "int B[MAX_SIZE][MAX_SIZE] = {};\n",
        "int C[MAX_SIZE][MAX_SIZE] = {};\n",
        "\n",
        "\n",
        "// Функция для перемножения квадратных матриц\n",
        "void multiply_matrices(int A[MAX_SIZE][MAX_SIZE], int B[MAX_SIZE][MAX_SIZE], int C[MAX_SIZE][MAX_SIZE], int N) {\n",
        "    for (int i = 0; i < N; i++) {\n",
        "        for (int j = 0; j < N; j++) {\n",
        "            C[i][j] = 0;  // Инициализируем элемент C[i][j]\n",
        "            for (int k = 0; k < N; k++) {\n",
        "                C[i][j] += A[i][k] * B[k][j];  // Умножаем и суммируем\n",
        "            }\n",
        "        }\n",
        "    }\n",
        "}\n",
        "\n",
        "// Функция для умножения матрицы на вектор\n",
        "void multiply_matrix_vector(int A[MAX_SIZE][MAX_SIZE], int B[MAX_SIZE], int C[MAX_SIZE], int N) {\n",
        "    for (int i = 0; i < N; i++) {\n",
        "        C[i] = 0;  // Инициализируем элемент C[i]\n",
        "        for (int j = 0; j < N; j++) {\n",
        "            C[i] += A[i][j] * B[j];  // Умножаем и суммируем\n",
        "        }\n",
        "    }\n",
        "}\n",
        "\n",
        "// Функция для вывода матрицы\n",
        "void print_matrix(int A[MAX_SIZE][MAX_SIZE], int N) {\n",
        "    for (int i = 0; i < N; i++) {\n",
        "        for (int j = 0; j < N; j++) {\n",
        "            printf(\"%d \", A[i][j]);\n",
        "        }\n",
        "        printf(\"\\n\");\n",
        "    }\n",
        "}\n",
        "\n",
        "// Функция для вывода вектора\n",
        "void print_vector(int B[MAX_SIZE], int N) {\n",
        "    for (int i = 0; i < N; i++) {\n",
        "        printf(\"%d \", B[i]);\n",
        "    }\n",
        "    printf(\"\\n\");\n",
        "}\n",
        "\n",
        "int main (int argc, char *argv[]) {\n",
        "    char *a = argv[1];\n",
        "    //printf(\"a = %s\\n\", a);\n",
        "\n",
        "    int N = atoi(a);\n",
        "    printf(\"N = %d\\n\", N);\n",
        "\n",
        "    // Инициализация первой матрицы\n",
        "    printf(\"Инициализация первой матрицу A (%d x %d)...\\n\", N, N);\n",
        "    for (int i = 0; i < N; i++) {\n",
        "        for (int j = 0; j < N; j++) {\n",
        "            A[i][j] = i*N + j;\n",
        "        }\n",
        "    }\n",
        "    print_matrix(A, N);\n",
        "\n",
        "    // Инициализация второй матрицы\n",
        "    printf(\"Инициализация второй матрицы B (%d x %d)...\\n\", N, N);\n",
        "    for (int i = 0; i < N; i++) {\n",
        "        for (int j = 0; j < N; j++) {\n",
        "            B[i][j] = i*N +j;\n",
        "        }\n",
        "    }\n",
        "    print_matrix(B, N);\n",
        "\n",
        "    // Перемножение матриц\n",
        "    printf(\"Перемножение матриц C = A * B ...\\n\");\n",
        "    multiply_matrices(A, B, C, N);\n",
        "    printf(\"Результат перемножения матриц C = A * B:\\n\");\n",
        "    print_matrix(C, N);\n",
        "\n",
        "    // Умножение матрицы A на вектор\n",
        "    int vector[MAX_SIZE];\n",
        "    int result_vector[MAX_SIZE];\n",
        "\n",
        "    //printf(\"Инициализация ветора размером %d ...\\n\", N);\n",
        "    for (int i = 0; i < N; i++) {\n",
        "        vector[i] = i;\n",
        "    }\n",
        "\n",
        "    printf(\"Умножение матрицы A на вектор ...\\n\");\n",
        "    multiply_matrix_vector(A, vector, result_vector, N);\n",
        "    //printf(\"Результат умножения матрицы A на вектор:\\n\");\n",
        "    //print_vector(result_vector, N);\n",
        "\n",
        "    printf(\"Завершил работу\\n\");\n",
        "    return 0;\n",
        "}\n"
      ],
      "metadata": {
        "colab": {
          "base_uri": "https://localhost:8080/"
        },
        "id": "SwaLpXpoO8ri",
        "outputId": "8b964958-10cf-468e-b35d-977b3db88602"
      },
      "id": "SwaLpXpoO8ri",
      "execution_count": 2,
      "outputs": [
        {
          "output_type": "stream",
          "name": "stdout",
          "text": [
            "Writing matrix_operations.c\n"
          ]
        }
      ]
    },
    {
      "cell_type": "code",
      "source": [
        "!gcc matrix_operations.c -o matrix_operations"
      ],
      "metadata": {
        "id": "VOdutzy4MViG"
      },
      "id": "VOdutzy4MViG",
      "execution_count": 3,
      "outputs": []
    },
    {
      "cell_type": "code",
      "source": [
        "%%timeit -r 1 -n 1\n",
        "!./matrix_operations 2"
      ],
      "metadata": {
        "colab": {
          "base_uri": "https://localhost:8080/"
        },
        "id": "Z23PaDjvfdeR",
        "outputId": "c76b9e89-dd8a-4b68-eaac-6e57b485a12a"
      },
      "id": "Z23PaDjvfdeR",
      "execution_count": 4,
      "outputs": [
        {
          "output_type": "stream",
          "name": "stdout",
          "text": [
            "N = 2\n",
            "Инициализация первой матрицу A (2 x 2)...\n",
            "0 1 \n",
            "2 3 \n",
            "Инициализация второй матрицы B (2 x 2)...\n",
            "0 1 \n",
            "2 3 \n",
            "Перемножение матриц C = A * B ...\n",
            "Результат перемножения матриц C = A * B:\n",
            "2 3 \n",
            "6 11 \n",
            "Умножение матрицы A на вектор ...\n",
            "Завершил работу\n",
            "104 ms ± 0 ns per loop (mean ± std. dev. of 1 run, 1 loop each)\n"
          ]
        }
      ]
    },
    {
      "cell_type": "markdown",
      "id": "f4433714-9fea-4011-b476-133bb0703bdb",
      "metadata": {
        "id": "f4433714-9fea-4011-b476-133bb0703bdb"
      },
      "source": [
        "2. Разделить программу на несколько модулей и провести сборку через статическую линковку (25%)"
      ]
    },
    {
      "cell_type": "code",
      "execution_count": null,
      "id": "b563e47a-d118-4508-b8da-9ba28276c86f",
      "metadata": {
        "id": "b563e47a-d118-4508-b8da-9ba28276c86f"
      },
      "outputs": [],
      "source": [
        "# можно используя знак ! запустить команду сборки прямо отсюда (так будет видно, что пункт 2 выполнен"
      ]
    },
    {
      "cell_type": "code",
      "source": [
        "%%writefile matrix_operations.h\n",
        "#define MAX_SIZE 8192 // Максимальный размер матриц и векторов\n",
        "\n",
        "void multiply_matrices(int A[MAX_SIZE][MAX_SIZE], int B[MAX_SIZE][MAX_SIZE], int C[MAX_SIZE][MAX_SIZE], int N);\n",
        "void multiply_matrix_vector(int A[MAX_SIZE][MAX_SIZE], int B[MAX_SIZE], int C[MAX_SIZE], int N);\n",
        "\n",
        "extern int A[MAX_SIZE][MAX_SIZE];\n",
        "extern int B[MAX_SIZE][MAX_SIZE];\n",
        "extern int C[MAX_SIZE][MAX_SIZE];"
      ],
      "metadata": {
        "colab": {
          "base_uri": "https://localhost:8080/"
        },
        "id": "VdRFAhpuntHR",
        "outputId": "7ddfcd0e-29cc-4d24-ff5f-387b2383e92b"
      },
      "id": "VdRFAhpuntHR",
      "execution_count": 5,
      "outputs": [
        {
          "output_type": "stream",
          "name": "stdout",
          "text": [
            "Writing matrix_operations.h\n"
          ]
        }
      ]
    },
    {
      "cell_type": "code",
      "source": [
        "%%writefile matrix_operations_lib.c\n",
        "\n",
        "#include <stdio.h>\n",
        "#include <stdlib.h>\n",
        "\n",
        "#include \"matrix_operations.h\"\n",
        "\n",
        "int A[MAX_SIZE][MAX_SIZE] = {};\n",
        "int B[MAX_SIZE][MAX_SIZE] = {};\n",
        "int C[MAX_SIZE][MAX_SIZE] = {};\n",
        "\n",
        "// Функция для перемножения квадратных матриц\n",
        "void multiply_matrices(int A[MAX_SIZE][MAX_SIZE], int B[MAX_SIZE][MAX_SIZE], int C[MAX_SIZE][MAX_SIZE], int N) {\n",
        "    for (int i = 0; i < N; i++) {\n",
        "        for (int j = 0; j < N; j++) {\n",
        "            C[i][j] = 0;  // Инициализируем элемент C[i][j]\n",
        "            for (int k = 0; k < N; k++) {\n",
        "                C[i][j] += A[i][k] * B[k][j];  // Умножаем и суммируем\n",
        "            }\n",
        "        }\n",
        "    }\n",
        "}\n",
        "\n",
        "// Функция для умножения матрицы на вектор\n",
        "void multiply_matrix_vector(int A[MAX_SIZE][MAX_SIZE], int B[MAX_SIZE], int C[MAX_SIZE], int N) {\n",
        "    for (int i = 0; i < N; i++) {\n",
        "        C[i] = 0;  // Инициализируем элемент C[i]\n",
        "        for (int j = 0; j < N; j++) {\n",
        "            C[i] += A[i][j] * B[j];  // Умножаем и суммируем\n",
        "        }\n",
        "    }\n",
        "}\n",
        "\n",
        "// Функция для вывода матрицы\n",
        "void print_matrix(int A[MAX_SIZE][MAX_SIZE], int N) {\n",
        "    for (int i = 0; i < N; i++) {\n",
        "        for (int j = 0; j < N; j++) {\n",
        "            printf(\"%d \", A[i][j]);\n",
        "        }\n",
        "        printf(\"\\n\");\n",
        "    }\n",
        "}\n",
        "\n",
        "// Функция для вывода вектора\n",
        "void print_vector(int B[MAX_SIZE], int N) {\n",
        "    for (int i = 0; i < N; i++) {\n",
        "        printf(\"%d \", B[i]);\n",
        "    }\n",
        "    printf(\"\\n\");\n",
        "}\n",
        "\n"
      ],
      "metadata": {
        "colab": {
          "base_uri": "https://localhost:8080/"
        },
        "id": "F7mKDWInlx-7",
        "outputId": "8fe26bf6-1986-45f6-eee3-69d31c7ba6c6"
      },
      "id": "F7mKDWInlx-7",
      "execution_count": 6,
      "outputs": [
        {
          "output_type": "stream",
          "name": "stdout",
          "text": [
            "Writing matrix_operations_lib.c\n"
          ]
        }
      ]
    },
    {
      "cell_type": "code",
      "source": [
        "%%writefile matrix_operations_main.c\n",
        "\n",
        "#include <stdio.h>\n",
        "#include <stdlib.h>\n",
        "\n",
        "#include \"matrix_operations.h\"\n",
        "\n",
        "int main (int argc, char *argv[]) {\n",
        "//int main(){\n",
        "\n",
        "    char *a = argv[1];\n",
        "    //printf(\"a = %s\\n\", a);\n",
        "\n",
        "    int N = atoi(a);\n",
        "    printf(\"N = %d\\n\", N);\n",
        "\n",
        "    // Инициализация первой матрицы\n",
        "    //printf(\"Инициализация первой матрицу A (%d x %d)...\\n\", N, N);\n",
        "    for (int i = 0; i < N; i++) {\n",
        "        for (int j = 0; j < N; j++) {\n",
        "            A[i][j] = i*N + j;\n",
        "        }\n",
        "    }\n",
        "    //print_matrix(A, N);\n",
        "\n",
        "    // Инициализация второй матрицы\n",
        "    //printf(\"Инициализация второй матрицы B (%d x %d)...\\n\", N, N);\n",
        "    for (int i = 0; i < N; i++) {\n",
        "        for (int j = 0; j < N; j++) {\n",
        "            B[i][j] = i*N +j;\n",
        "        }\n",
        "    }\n",
        "    //print_matrix(B, N);\n",
        "\n",
        "    // Перемножение матриц\n",
        "    printf(\"Перемножение матриц C = A * B ...\\n\");\n",
        "    multiply_matrices(A, B, C, N);\n",
        "    //printf(\"Результат перемножения матриц C = A * B:\\n\");\n",
        "    //print_matrix(C, N);\n",
        "\n",
        "    // Умножение матрицы A на вектор\n",
        "    int vector[MAX_SIZE];\n",
        "    int result_vector[MAX_SIZE];\n",
        "\n",
        "    //printf(\"Инициализация ветора размером %d ...\\n\", N);\n",
        "    for (int i = 0; i < N; i++) {\n",
        "        vector[i] = i;\n",
        "    }\n",
        "\n",
        "    printf(\"Умножение матрицы A на вектор ...\\n\");\n",
        "    multiply_matrix_vector(A, vector, result_vector, N);\n",
        "    //printf(\"Результат умножения матрицы A на вектор:\\n\");\n",
        "    //print_vector(result_vector, N);\n",
        "\n",
        "    printf(\"Завершил работу\\n\");\n",
        "    return 0;\n",
        "}\n"
      ],
      "metadata": {
        "colab": {
          "base_uri": "https://localhost:8080/"
        },
        "id": "UuW_zd8bmLrB",
        "outputId": "83661990-fb18-48d5-ea46-cbc19614090d"
      },
      "id": "UuW_zd8bmLrB",
      "execution_count": 7,
      "outputs": [
        {
          "output_type": "stream",
          "name": "stdout",
          "text": [
            "Writing matrix_operations_main.c\n"
          ]
        }
      ]
    },
    {
      "cell_type": "code",
      "source": [
        "!gcc -o matrix_operations_main matrix_operations_lib.c matrix_operations_main.c"
      ],
      "metadata": {
        "id": "fVR580FxnOYd"
      },
      "id": "fVR580FxnOYd",
      "execution_count": 8,
      "outputs": []
    },
    {
      "cell_type": "code",
      "source": [
        " # проверяем работу\n",
        " !./matrix_operations_main 10"
      ],
      "metadata": {
        "colab": {
          "base_uri": "https://localhost:8080/"
        },
        "id": "mzbwhiwXsEZy",
        "outputId": "a559d743-227f-42d1-cffd-8d316b335172"
      },
      "id": "mzbwhiwXsEZy",
      "execution_count": 9,
      "outputs": [
        {
          "output_type": "stream",
          "name": "stdout",
          "text": [
            "N = 10\n",
            "Перемножение матриц C = A * B ...\n",
            "Умножение матрицы A на вектор ...\n",
            "Завершил работу\n"
          ]
        }
      ]
    },
    {
      "cell_type": "markdown",
      "id": "2147d411-a7d9-437b-9571-b8bf0247581d",
      "metadata": {
        "id": "2147d411-a7d9-437b-9571-b8bf0247581d"
      },
      "source": [
        "3. Подготовьте две сборки с флагами -g и -O3 и измерьте времена выполнения операций с N = 512, 1024, . . ., 4096 (20%)"
      ]
    },
    {
      "cell_type": "code",
      "execution_count": null,
      "id": "e89c6ab3-8a4d-42eb-847e-1b174511ea9b",
      "metadata": {
        "id": "e89c6ab3-8a4d-42eb-847e-1b174511ea9b"
      },
      "outputs": [],
      "source": [
        "# замеры можно сделать используя %%time, %%timeit\n",
        "# если комфортней работать с терминалом, то можно приложить\n",
        "# к домашнему заданию скрин с записанными временами расчетов"
      ]
    },
    {
      "cell_type": "code",
      "source": [
        "!gcc -g -o matrix_operations_main_g matrix_operations_lib.c matrix_operations_main.c"
      ],
      "metadata": {
        "id": "IotGVuWEt_9O"
      },
      "id": "IotGVuWEt_9O",
      "execution_count": null,
      "outputs": []
    },
    {
      "cell_type": "code",
      "source": [
        "%time !./matrix_operations_main_g 512\n",
        "%time !./matrix_operations_main_g 1024\n",
        "%time !./matrix_operations_main_g 2048\n",
        "# %time !./matrix_operations_main_g 4096  # очень долго !!!!"
      ],
      "metadata": {
        "colab": {
          "base_uri": "https://localhost:8080/"
        },
        "id": "O6fKagv2t__0",
        "outputId": "34032662-4230-41a5-f798-28316d853f61"
      },
      "id": "O6fKagv2t__0",
      "execution_count": null,
      "outputs": [
        {
          "output_type": "stream",
          "name": "stdout",
          "text": [
            "N = 512\n",
            "Перемножение матриц C = A * B ...\n",
            "Умножение матрицы A на вектор ...\n",
            "Завершил работу\n",
            "CPU times: user 7.59 ms, sys: 1.2 ms, total: 8.79 ms\n",
            "Wall time: 1.51 s\n",
            "N = 1024\n",
            "Перемножение матриц C = A * B ...\n",
            "Умножение матрицы A на вектор ...\n",
            "Завершил работу\n",
            "CPU times: user 37.9 ms, sys: 5.69 ms, total: 43.6 ms\n",
            "Wall time: 17.6 s\n",
            "N = 2048\n",
            "Перемножение матриц C = A * B ...\n",
            "Умножение матрицы A на вектор ...\n",
            "Завершил работу\n",
            "CPU times: user 406 ms, sys: 59 ms, total: 465 ms\n",
            "Wall time: 3min 21s\n"
          ]
        }
      ]
    },
    {
      "cell_type": "code",
      "source": [
        "!gcc -O3 -o matrix_operations_main_O3 matrix_operations_lib.c matrix_operations_main.c"
      ],
      "metadata": {
        "id": "ohw5omFYvqNR"
      },
      "id": "ohw5omFYvqNR",
      "execution_count": null,
      "outputs": []
    },
    {
      "cell_type": "code",
      "source": [
        "%time !./matrix_operations_main_O3 512\n",
        "%time !./matrix_operations_main_O3 1024\n",
        "%time !./matrix_operations_main_O3 2048\n",
        "# %time !./matrix_operations_main_g 4096  # очень долго !!!!"
      ],
      "metadata": {
        "colab": {
          "base_uri": "https://localhost:8080/"
        },
        "id": "IidhjhBmv1Tr",
        "outputId": "63400062-10c0-4f3d-c796-e77bb51f2626"
      },
      "id": "IidhjhBmv1Tr",
      "execution_count": null,
      "outputs": [
        {
          "output_type": "stream",
          "name": "stdout",
          "text": [
            "N = 512\n",
            "Перемножение матриц C = A * B ...\n",
            "Умножение матрицы A на вектор ...\n",
            "Завершил работу\n",
            "CPU times: user 3.48 ms, sys: 2.95 ms, total: 6.43 ms\n",
            "Wall time: 505 ms\n",
            "N = 1024\n",
            "Перемножение матриц C = A * B ...\n",
            "Умножение матрицы A на вектор ...\n",
            "Завершил работу\n",
            "CPU times: user 13.4 ms, sys: 4.27 ms, total: 17.7 ms\n",
            "Wall time: 5.82 s\n",
            "N = 2048\n",
            "Перемножение матриц C = A * B ...\n",
            "Умножение матрицы A на вектор ...\n",
            "Завершил работу\n",
            "CPU times: user 227 ms, sys: 45.4 ms, total: 272 ms\n",
            "Wall time: 1min 46s\n"
          ]
        }
      ]
    },
    {
      "cell_type": "code",
      "source": [
        "# С ключом -O3 код выполняется в 2 раза быстрее: Для N=2048 1min 46s vs 3min 21s"
      ],
      "metadata": {
        "id": "TAjM3NuNuADi"
      },
      "id": "TAjM3NuNuADi",
      "execution_count": null,
      "outputs": []
    },
    {
      "cell_type": "markdown",
      "id": "7c234d8a-dc1b-48c8-b038-b4c61725cb51",
      "metadata": {
        "id": "7c234d8a-dc1b-48c8-b038-b4c61725cb51"
      },
      "source": [
        "4. Выполните вызов процедуры из Python через Ctypes/Cython/PyBind11 и измерьте времена (40%)"
      ]
    },
    {
      "cell_type": "code",
      "execution_count": null,
      "id": "09283a6c-92cb-410a-86c3-d5470d6cf954",
      "metadata": {
        "id": "09283a6c-92cb-410a-86c3-d5470d6cf954"
      },
      "outputs": [],
      "source": [
        "# можно это сделать здесь"
      ]
    },
    {
      "cell_type": "markdown",
      "source": [
        "### Ctypes"
      ],
      "metadata": {
        "id": "ibb7kClirwSR"
      },
      "id": "ibb7kClirwSR"
    },
    {
      "cell_type": "code",
      "source": [
        "# Ctypes"
      ],
      "metadata": {
        "id": "OHwS3cvU26x4"
      },
      "id": "OHwS3cvU26x4",
      "execution_count": null,
      "outputs": []
    },
    {
      "cell_type": "code",
      "source": [
        "# компилируем в shared library\n",
        "!gcc -shared -o matrix_operations_lib.so -fPIC matrix_operations_lib.c"
      ],
      "metadata": {
        "id": "8SXaKi5l3nZn"
      },
      "id": "8SXaKi5l3nZn",
      "execution_count": 10,
      "outputs": []
    },
    {
      "cell_type": "code",
      "source": [
        "#%%writefile muliply_matrices_ctypes.py\n",
        "# вызов из python-кода\n",
        "import ctypes\n",
        "import numpy as np\n",
        "\n",
        "# Загрузите динамическую библиотеку\n",
        "lib = ctypes.CDLL('./matrix_operations_lib.so')\n",
        "\n",
        "# Определяуь типы аргументов и возвращаемое значение функции\n",
        "#lib.multiply_matrices.argtypes = [ctypes.POINTER(ctypes.c_int),\n",
        "#                                  ctypes.POINTER(ctypes.c_int),\n",
        "#                                  ctypes.POINTER(ctypes.c_int),\n",
        "#                                  ctypes.c_int]\n",
        "\n",
        "lib.multiply_matrices.restype = None\n",
        "\n",
        "# Функция для упаковки двумерного массива в ctypes\n",
        "def create_ctypes_array(matrix):\n",
        "    n = len(matrix)\n",
        "    array_type = ctypes.c_int * (n * n)\n",
        "    flat_array = array_type(*[item for row in matrix for item in row])\n",
        "    return flat_array\n",
        "\n",
        "# Пример использования\n",
        "A = [[1, 2], [3, 4]]\n",
        "B = [[5, 6], [7, 8]]\n",
        "N = 2\n",
        "\n",
        "# Создание ctypes-версий матриц\n",
        "A_ctypes = create_ctypes_array(A)\n",
        "B_ctypes = create_ctypes_array(B)\n",
        "\n",
        "# Создание матрицы C для результата\n",
        "C_ctypes = create_ctypes_array([[0] * N for _ in range(N)])\n",
        "\n",
        "# Вызов функции перемножения матриц\n",
        "lib.multiply_matrices(A_ctypes, B_ctypes, C_ctypes, N)\n",
        "\n",
        "# Извлечение результата обратно в Python\n",
        "C_result = [[C_ctypes[i * N + j] for j in range(N)] for i in range(N)]\n",
        "\n",
        "print(\"Результат перемножения матриц:\")\n",
        "for row in C_result:\n",
        "    print(row)\n"
      ],
      "metadata": {
        "id": "XGCYrq2X3tkn",
        "outputId": "65d28887-54ea-4531-eee2-45c39ea96ee0",
        "colab": {
          "base_uri": "https://localhost:8080/"
        }
      },
      "id": "XGCYrq2X3tkn",
      "execution_count": 17,
      "outputs": [
        {
          "output_type": "stream",
          "name": "stdout",
          "text": [
            "2\n",
            "2\n",
            "2\n",
            "Результат перемножения матриц:\n",
            "[625676377, 63924]\n",
            "[0, 0]\n"
          ]
        }
      ]
    },
    {
      "cell_type": "code",
      "source": [
        "[[0] * N for _ in range(N)]"
      ],
      "metadata": {
        "id": "8eYiHpIXtkke",
        "outputId": "31bd9f5a-1f00-4ea3-eec6-0f428eaad839",
        "colab": {
          "base_uri": "https://localhost:8080/"
        }
      },
      "id": "8eYiHpIXtkke",
      "execution_count": 18,
      "outputs": [
        {
          "output_type": "execute_result",
          "data": {
            "text/plain": [
              "[[0, 0], [0, 0]]"
            ]
          },
          "metadata": {},
          "execution_count": 18
        }
      ]
    },
    {
      "cell_type": "code",
      "source": [
        "!python ./muliply_matrices_ctypes.py"
      ],
      "metadata": {
        "id": "HJ3krLg3CNAj",
        "outputId": "a43fbd6a-b0a4-44af-db28-950b6730f276",
        "colab": {
          "base_uri": "https://localhost:8080/"
        }
      },
      "id": "HJ3krLg3CNAj",
      "execution_count": null,
      "outputs": [
        {
          "output_type": "stream",
          "name": "stdout",
          "text": [
            "Результат перемножения матриц:\n",
            "[5, 6]\n",
            "[0, 0]\n"
          ]
        }
      ]
    },
    {
      "cell_type": "code",
      "source": [
        "for row in A:\n",
        "    print(row)"
      ],
      "metadata": {
        "id": "5u8mmJlu-SJH",
        "outputId": "047cc2f8-2226-48dd-fcb8-25953096cfdf",
        "colab": {
          "base_uri": "https://localhost:8080/"
        }
      },
      "id": "5u8mmJlu-SJH",
      "execution_count": null,
      "outputs": [
        {
          "output_type": "stream",
          "name": "stdout",
          "text": [
            "[1, 2]\n",
            "[3, 4]\n"
          ]
        }
      ]
    },
    {
      "cell_type": "code",
      "source": [
        "C_ctypes = create_ctypes_array([[0] * N for _ in range(N)])\n",
        "for i in C_ctypes:\n",
        "    print(i)"
      ],
      "metadata": {
        "id": "G3gEuYK29oxb",
        "outputId": "6f3a936c-d868-4a3b-a87c-0da2b24ab7e3",
        "colab": {
          "base_uri": "https://localhost:8080/"
        }
      },
      "id": "G3gEuYK29oxb",
      "execution_count": null,
      "outputs": [
        {
          "output_type": "stream",
          "name": "stdout",
          "text": [
            "0\n",
            "0\n",
            "0\n",
            "0\n"
          ]
        }
      ]
    },
    {
      "cell_type": "code",
      "source": [
        "matrix = [[1, 2], [3, 4]]\n",
        "N = len(matrix)\n",
        "array_type = ctypes.c_int * (N * N)\n",
        "flat_array = array_type(*[item for row in matrix for item in row])\n"
      ],
      "metadata": {
        "id": "ASJJR9X_81P0"
      },
      "id": "ASJJR9X_81P0",
      "execution_count": null,
      "outputs": []
    },
    {
      "cell_type": "code",
      "source": [
        "array_type(*[item for row in matrix for item in row])"
      ],
      "metadata": {
        "id": "tk-uQBE89B8j",
        "outputId": "07eff719-6b4d-4676-92ba-69cde24a0f34",
        "colab": {
          "base_uri": "https://localhost:8080/"
        }
      },
      "id": "tk-uQBE89B8j",
      "execution_count": null,
      "outputs": [
        {
          "output_type": "execute_result",
          "data": {
            "text/plain": [
              "<__main__.c_int_Array_4 at 0x7ce43ac52600>"
            ]
          },
          "metadata": {},
          "execution_count": 111
        }
      ]
    },
    {
      "cell_type": "code",
      "source": [
        "for i in B_ctypes:\n",
        "    print(i)"
      ],
      "metadata": {
        "id": "dx2NI_J96jlM",
        "outputId": "e53ae220-ef86-474b-d6af-8a33d91d3e5d",
        "colab": {
          "base_uri": "https://localhost:8080/"
        }
      },
      "id": "dx2NI_J96jlM",
      "execution_count": null,
      "outputs": [
        {
          "output_type": "stream",
          "name": "stdout",
          "text": [
            "5\n",
            "6\n",
            "7\n",
            "8\n"
          ]
        }
      ]
    },
    {
      "cell_type": "code",
      "source": [],
      "metadata": {
        "id": "10Q0i-FK260K"
      },
      "id": "10Q0i-FK260K",
      "execution_count": null,
      "outputs": []
    },
    {
      "cell_type": "code",
      "source": [],
      "metadata": {
        "id": "uD1sLcDi264-"
      },
      "id": "uD1sLcDi264-",
      "execution_count": null,
      "outputs": []
    },
    {
      "cell_type": "code",
      "source": [],
      "metadata": {
        "id": "R2SUEXgy268I"
      },
      "id": "R2SUEXgy268I",
      "execution_count": null,
      "outputs": []
    },
    {
      "cell_type": "code",
      "source": [],
      "metadata": {
        "id": "WMxnJv-027A4"
      },
      "id": "WMxnJv-027A4",
      "execution_count": null,
      "outputs": []
    },
    {
      "cell_type": "markdown",
      "id": "ec657595-8781-4d82-bf05-5c66df1f2f10",
      "metadata": {
        "id": "ec657595-8781-4d82-bf05-5c66df1f2f10"
      },
      "source": [
        "БОНУСЫ:\n",
        "\n",
        "1. Дополнительные баллы за использование функций BLAS/cBLAS/openBLAS;\n",
        "2. Дополнительные баллы за вызов теста LINPACK на вашем компьютере;\n",
        "3. Супербонус: реализовать метод Штрассена перемножения квадратных матриц"
      ]
    },
    {
      "cell_type": "code",
      "execution_count": null,
      "id": "96d6f952-62e0-4c1f-a4a6-97210a4322e8",
      "metadata": {
        "id": "96d6f952-62e0-4c1f-a4a6-97210a4322e8"
      },
      "outputs": [],
      "source": []
    }
  ],
  "metadata": {
    "kernelspec": {
      "display_name": "Python 3 (ipykernel)",
      "language": "python",
      "name": "python3"
    },
    "language_info": {
      "codemirror_mode": {
        "name": "ipython",
        "version": 3
      },
      "file_extension": ".py",
      "mimetype": "text/x-python",
      "name": "python",
      "nbconvert_exporter": "python",
      "pygments_lexer": "ipython3",
      "version": "3.13.5"
    },
    "colab": {
      "provenance": [],
      "include_colab_link": true
    }
  },
  "nbformat": 4,
  "nbformat_minor": 5
}