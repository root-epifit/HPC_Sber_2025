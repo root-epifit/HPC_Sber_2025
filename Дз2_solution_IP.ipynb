{
  "cells": [
    {
      "cell_type": "markdown",
      "metadata": {
        "id": "view-in-github",
        "colab_type": "text"
      },
      "source": [
        "<a href=\"https://colab.research.google.com/github/root-epifit/HPC_Sber_2025/blob/main/%D0%94%D0%B72_in_work.ipynb\" target=\"_parent\"><img src=\"https://colab.research.google.com/assets/colab-badge.svg\" alt=\"Open In Colab\"/></a>"
      ]
    },
    {
      "cell_type": "markdown",
      "id": "fd38da4b-c1a0-435c-b4ef-f53409aa1b55",
      "metadata": {
        "id": "fd38da4b-c1a0-435c-b4ef-f53409aa1b55"
      },
      "source": [
        "## Домашнее задание 2\n",
        "\n",
        "### связь Python с программами на C/C++"
      ]
    },
    {
      "cell_type": "markdown",
      "id": "b732f8c0-2e02-4e65-8e77-393d973d1542",
      "metadata": {
        "id": "b732f8c0-2e02-4e65-8e77-393d973d1542"
      },
      "source": [
        "1. Реализовать на языке C/C++ классические операции перемножения квадратных матриц и умножения матрицы на вектор (15%)"
      ]
    },
    {
      "cell_type": "code",
      "execution_count": null,
      "id": "742ca1f6-e746-4d0f-830d-503c56503f7a",
      "metadata": {
        "id": "742ca1f6-e746-4d0f-830d-503c56503f7a"
      },
      "outputs": [],
      "source": [
        "# можно использовать %%writefile и оформить сишный код прямо здесь\n",
        "# но наверное удобней будет писать его напрямую в отдельных файлах\n",
        "# и прислать вместе с домашним заданием"
      ]
    },
    {
      "cell_type": "markdown",
      "source": [
        "### Задание 1"
      ],
      "metadata": {
        "id": "ZDSOtCygtxgd"
      },
      "id": "ZDSOtCygtxgd"
    },
    {
      "cell_type": "code",
      "source": [
        "%%writefile matrix_operations.c\n",
        "\n",
        "#include <stdio.h>\n",
        "#include <stdlib.h>\n",
        "\n",
        "#define MAX_SIZE 8192 // Максимальный размер матриц и векторов\n",
        "\n",
        "// Функция для перемножения квадратных матриц\n",
        "int** multiply_matrices(int** a, int** b, int N) {\n",
        "    int **c = malloc(MAX_SIZE * sizeof(int *)); // alloc memory\n",
        "    for (int i = 0; i < N; i++) {\n",
        "        c[i] = malloc(MAX_SIZE * sizeof(int));\n",
        "        for (int j = 0; j < N; j++) {\n",
        "            c[i][j] = 0;                      // Инициализируем элемент c[i][j]\n",
        "            for (int k = 0; k < N; k++) {\n",
        "                c[i][j] += a[i][k] * b[k][j];  // Умножаем и суммируем\n",
        "            }\n",
        "        }\n",
        "    }\n",
        "    return c;\n",
        "}\n",
        "\n",
        "// Функция для умножения матрицы на вектор\n",
        "int* multiply_matrix_vector(int** a, int* b, int n) {\n",
        "    int *c = malloc(MAX_SIZE * sizeof(int *)); // alloc memory\n",
        "    for (int i = 0; i < n; i++) {\n",
        "        c[i] = 0;  // Инициализируем элемент C[i]\n",
        "        for (int j = 0; j < n; j++) {\n",
        "            c[i] += a[i][j] * b[j];  // Умножаем и суммируем\n",
        "        }\n",
        "    }\n",
        "    return c;\n",
        "}\n",
        "\n",
        "// Функция для вывода матрицы\n",
        "void print_matrix(int** A, int N) {\n",
        "    for (int i = 0; i < N; i++) {\n",
        "        for (int j = 0; j < N; j++) {\n",
        "            printf(\"%d \", A[i][j]);\n",
        "        }\n",
        "        printf(\"\\n\");\n",
        "    }\n",
        "}\n",
        "\n",
        "// Функция для вывода вектора\n",
        "void print_vector(int* B, int N) {\n",
        "    for (int i = 0; i < N; i++) {\n",
        "        printf(\"%d\\n\", B[i]);\n",
        "    }\n",
        "    printf(\"\\n\");\n",
        "}\n",
        "\n",
        "int** create_matrix(int N){\n",
        "    int** a = malloc(MAX_SIZE * sizeof(int *));\n",
        "    for (int i = 0; i < N; i++) {\n",
        "        a[i] = malloc(MAX_SIZE * sizeof(int));\n",
        "        for (int j = 0; j < N; j++) {\n",
        "            a[i][j] = i*N + j;\n",
        "        }\n",
        "    }\n",
        "    return a;\n",
        "}\n",
        "\n",
        "int* create_vector(int N){\n",
        "    int* a = malloc(MAX_SIZE * sizeof(int *));\n",
        "    for (int i = 0; i < N; i++) {\n",
        "       a[i] = i;\n",
        "     }\n",
        "    return a;\n",
        "}\n",
        "\n",
        "\n",
        "int main (int argc, char *argv[]) {\n",
        "    char *a = argv[1];\n",
        "    //printf(\"a = %s\\n\", a);\n",
        "\n",
        "    int N = atoi(a);\n",
        "    printf(\"N = %d\\n\", N);\n",
        "\n",
        "    // Инициализация первой матрицы\n",
        "    printf(\"Инициализация первой матрицу A (%d x %d)...\\n\", N, N);\n",
        "    int** A=create_matrix(N);\n",
        "    print_matrix(A, N);\n",
        "\n",
        "    // Инициализация второй матрицы\n",
        "    printf(\"Инициализация второй матрицы B (%d x %d)...\\n\", N, N);\n",
        "    int** B=create_matrix(N);\n",
        "    print_matrix(B, N);\n",
        "\n",
        "    // Перемножение матриц\n",
        "    printf(\"Перемножение матриц C = A * B ...\\n\");\n",
        "    int** C = multiply_matrices(A, B, N);\n",
        "    print_matrix(C, N);\n",
        "\n",
        "    // Умножение матрицы A на вектор\n",
        "    printf(\"Инициализация вектора размером %d ...\\n\", N);\n",
        "    int* vector = create_vector(N);\n",
        "    print_vector(vector, N);\n",
        "\n",
        "    printf(\"Умножение матрицы A на вектор ...\\n\");\n",
        "    int* result_vector = multiply_matrix_vector(A, vector, N);\n",
        "    print_vector(result_vector, N);\n",
        "\n",
        "    printf(\"Завершил работу\\n\");\n",
        "    return 0;\n",
        "}\n"
      ],
      "metadata": {
        "colab": {
          "base_uri": "https://localhost:8080/"
        },
        "id": "epH8IhFatwXP",
        "outputId": "b5496fea-e8ff-4d9c-b399-389406dab8ea"
      },
      "id": "epH8IhFatwXP",
      "execution_count": null,
      "outputs": [
        {
          "output_type": "stream",
          "name": "stdout",
          "text": [
            "Overwriting matrix_operations.c\n"
          ]
        }
      ]
    },
    {
      "cell_type": "code",
      "source": [
        "!gcc matrix_operations.c -o matrix_operations"
      ],
      "metadata": {
        "id": "q-D2Ei93twZy"
      },
      "id": "q-D2Ei93twZy",
      "execution_count": null,
      "outputs": []
    },
    {
      "cell_type": "code",
      "source": [
        "%%timeit -r 1 -n 1\n",
        "!./matrix_operations 2"
      ],
      "metadata": {
        "colab": {
          "base_uri": "https://localhost:8080/"
        },
        "outputId": "2540d3d1-b6f3-4eed-b98b-68d31127864f",
        "id": "DqcczNXt1M6Z"
      },
      "execution_count": null,
      "outputs": [
        {
          "output_type": "stream",
          "name": "stdout",
          "text": [
            "N = 2\n",
            "Инициализация первой матрицу A (2 x 2)...\n",
            "0 1 \n",
            "2 3 \n",
            "Инициализация второй матрицы B (2 x 2)...\n",
            "0 1 \n",
            "2 3 \n",
            "Перемножение матриц C = A * B ...\n",
            "2 3 \n",
            "6 11 \n",
            "Инициализация вектора размером 2 ...\n",
            "0\n",
            "1\n",
            "\n",
            "Умножение матрицы A на вектор ...\n",
            "1\n",
            "3\n",
            "\n",
            "Завершил работу\n",
            "104 ms ± 0 ns per loop (mean ± std. dev. of 1 run, 1 loop each)\n"
          ]
        }
      ],
      "id": "DqcczNXt1M6Z"
    },
    {
      "cell_type": "markdown",
      "id": "f4433714-9fea-4011-b476-133bb0703bdb",
      "metadata": {
        "id": "f4433714-9fea-4011-b476-133bb0703bdb"
      },
      "source": [
        "2. Разделить программу на несколько модулей и провести сборку через статическую линковку (25%)"
      ]
    },
    {
      "cell_type": "code",
      "execution_count": null,
      "id": "b563e47a-d118-4508-b8da-9ba28276c86f",
      "metadata": {
        "id": "b563e47a-d118-4508-b8da-9ba28276c86f"
      },
      "outputs": [],
      "source": [
        "# можно используя знак ! запустить команду сборки прямо отсюда (так будет видно, что пункт 2 выполнен"
      ]
    },
    {
      "cell_type": "markdown",
      "source": [
        "### Задание 2"
      ],
      "metadata": {
        "id": "OCVi8Jur3E2e"
      },
      "id": "OCVi8Jur3E2e"
    },
    {
      "cell_type": "code",
      "source": [
        "%%writefile dprintf.h\n",
        "/* $Id: dprintf.h  $\n",
        "   $Date: 2025-04-05 08:51:00 $\n",
        "   Copyright (C) 2025 David Ireland, DI Management Services Pty Limited\n",
        "   <https://www.di-mgt.com.au/>\n",
        "   @license MIT <https://opensource.org/license/mit/>\n",
        "*/\n",
        "\n",
        "/* Debugging print macros.\n",
        "   Will not show at all if in Release mode\n",
        "   or if NO_DPRINTF is defined _before_ including this file\n",
        "*/\n",
        "\n",
        "#ifndef DPRINTF_H_\n",
        "#define DPRINTF_H_\n",
        "\n",
        "#if (defined(_DEBUG) && !(defined(NO_DPRINTF)))\n",
        "#include <stdio.h>\n",
        "#define DPRINTF0(s) printf(s)\n",
        "#define DPRINTF1(s, a1) printf(s, a1)\n",
        "#define DPRINTF2(s, a1, a2) printf(s, a1, a2)\n",
        "#define DPRINTF3(s, a1, a2, a3) printf(s, a1, a2, a3)\n",
        "#define DPRINTF4(s, a1, a2, a3, a4) printf(s, a1, a2, a3, a4)\n",
        "#define DPRINTF5(s, a1, a2, a3, a4, a5) printf(s, a1, a2, a3, a4, a5)\n",
        "#define DPRINTF6(s, a1, a2, a3, a4, a5, a6) printf(s, a1, a2, a3, a4, a5, a6)\n",
        "#define DPRBYTES(b,n) do{int i_;for(i_=0;i_<(int)(n);i_++){printf(\"%02x\",(b)[i_]);}printf(\"\\n\");}while(0)\n",
        "#define DPRBYTESMSG(msg,b,n) do{printf(\"%s\",(msg)); DPRBYTES((b),(n));}while(0)\n",
        "\n",
        "#else\n",
        "#define DPRINTF0(s)\n",
        "#define DPRINTF1(s, a1)\n",
        "#define DPRINTF2(s, a1, a2)\n",
        "#define DPRINTF3(s, a1, a2, a3)\n",
        "#define DPRINTF4(s, a1, a2, a3, a4)\n",
        "#define DPRINTF5(s, a1, a2, a3, a4, a5)\n",
        "#define DPRINTF6(s, a1, a2, a3, a4, a5, a6)\n",
        "#define DPRBYTES(b,n)\n",
        "#define DPRBYTESMSG(msg,b,n)\n",
        "\n",
        "#endif\n",
        "\n",
        "#endif /* DPRINTF_H_ */"
      ],
      "metadata": {
        "colab": {
          "base_uri": "https://localhost:8080/"
        },
        "id": "lSvishLZ184y",
        "outputId": "2da4b46f-f6b7-4580-f4d4-9fda52532c80"
      },
      "id": "lSvishLZ184y",
      "execution_count": null,
      "outputs": [
        {
          "output_type": "stream",
          "name": "stdout",
          "text": [
            "Overwriting dprintf.h\n"
          ]
        }
      ]
    },
    {
      "cell_type": "code",
      "source": [
        "%%writefile matrix_operations.h\n",
        "#define MAX_SIZE 8192 // Максимальный размер матриц и векторов\n",
        "\n",
        "int** multiply_matrices(int** a, int** b, int n);\n",
        "int* multiply_matrix_vector(int** a, int* b, int n);\n",
        "\n",
        "int** create_matrix(int n);\n",
        "int*  create_vector(int n);\n",
        "\n",
        "void print_matrix(int** a, int n);\n",
        "void print_vector(int* a, int n);"
      ],
      "metadata": {
        "colab": {
          "base_uri": "https://localhost:8080/"
        },
        "id": "VdRFAhpuntHR",
        "outputId": "b94878d7-20c6-46c5-a764-cfc8a2faa5b1"
      },
      "id": "VdRFAhpuntHR",
      "execution_count": null,
      "outputs": [
        {
          "output_type": "stream",
          "name": "stdout",
          "text": [
            "Writing matrix_operations.h\n"
          ]
        }
      ]
    },
    {
      "cell_type": "code",
      "source": [
        "%%writefile matrix_operations_lib.c\n",
        "\n",
        "#include <stdio.h>\n",
        "#include <stdlib.h>\n",
        "\n",
        "#include \"matrix_operations.h\"\n",
        "#include \"dprintf.h\"\n",
        "\n",
        "// Функция для перемножения квадратных матриц\n",
        "int** multiply_matrices(int** a, int** b, int N) {\n",
        "    // в режиме отладки распечатываем вход\n",
        "    DPRINTF0(\"multiply_matrix: Matrix a:\\n\");\n",
        "    print_matrix(a,N);\n",
        "    DPRINTF0(\"multiply_matrix: Matrix b:\\n\");\n",
        "    print_matrix(b,N);\n",
        "\n",
        "    int** c = malloc(MAX_SIZE * sizeof(int *)); // alloc memory\n",
        "    for (int i = 0; i < N; i++) {\n",
        "        c[i] = malloc(MAX_SIZE * sizeof(int));\n",
        "        for (int j = 0; j < N; j++) {\n",
        "            c[i][j] = 0;                      // Инициализируем элемент c[i][j]\n",
        "            for (int k = 0; k < N; k++) {\n",
        "                c[i][j] += a[i][k] * b[k][j];  // Умножаем и суммируем\n",
        "            }\n",
        "        }\n",
        "    }\n",
        "    // в режиме отладки распечатываем result\n",
        "    DPRINTF0(\"multiply_matrix: Matrix c (result):\\n\");\n",
        "    print_matrix(c,N);\n",
        "    DPRINTF0(\"\\n\");\n",
        "\n",
        "    return c;\n",
        "}\n",
        "\n",
        "// Функция для умножения матрицы на вектор\n",
        "int* multiply_matrix_vector(int** a, int* b, int n) {\n",
        "    int *c = malloc(MAX_SIZE * sizeof(int *)); // alloc memory\n",
        "    for (int i = 0; i < n; i++) {\n",
        "        c[i] = 0;  // Инициализируем элемент C[i]\n",
        "        for (int j = 0; j < n; j++) {\n",
        "            c[i] += a[i][j] * b[j];  // Умножаем и суммируем\n",
        "        }\n",
        "    }\n",
        "    return c;\n",
        "}\n",
        "\n",
        "// Функция для вывода матрицы\n",
        "void print_matrix(int** A, int N) {\n",
        "    for (int i = 0; i < N; i++) {\n",
        "        for (int j = 0; j < N; j++) {\n",
        "            DPRINTF1(\"%d \", A[i][j]);\n",
        "        }\n",
        "        DPRINTF0(\"\\n\");\n",
        "    }\n",
        "}\n",
        "\n",
        "// Функция для вывода вектора\n",
        "void print_vector(int* B, int N) {\n",
        "    for (int i = 0; i < N; i++) {\n",
        "        DPRINTF1(\"%d\\n\", B[i]);\n",
        "    }\n",
        "    DPRINTF0(\"\\n\");\n",
        "}\n",
        "\n",
        "int** create_matrix(int N){\n",
        "    int** a = malloc(MAX_SIZE * sizeof(int *));\n",
        "    for (int i = 0; i < N; i++) {\n",
        "        a[i] = malloc(MAX_SIZE * sizeof(int));\n",
        "        for (int j = 0; j < N; j++) {\n",
        "            a[i][j] = i*N + j;\n",
        "        }\n",
        "    }\n",
        "    return a;\n",
        "}\n",
        "\n",
        "int* create_vector(int N){\n",
        "    int* a = malloc(MAX_SIZE * sizeof(int *));\n",
        "    for (int i = 0; i < N; i++) {\n",
        "       a[i] = i;\n",
        "     }\n",
        "    return a;\n",
        "}\n"
      ],
      "metadata": {
        "colab": {
          "base_uri": "https://localhost:8080/"
        },
        "id": "F7mKDWInlx-7",
        "outputId": "08488585-662c-4926-9860-aee10ddf80e3"
      },
      "id": "F7mKDWInlx-7",
      "execution_count": null,
      "outputs": [
        {
          "output_type": "stream",
          "name": "stdout",
          "text": [
            "Overwriting matrix_operations_lib.c\n"
          ]
        }
      ]
    },
    {
      "cell_type": "code",
      "source": [
        "%%writefile matrix_operations_main.c\n",
        "\n",
        "#include <stdio.h>\n",
        "#include <stdlib.h>\n",
        "\n",
        "#include \"matrix_operations.h\"\n",
        "#include \"dprintf.h\"\n",
        "\n",
        "int main (int argc, char *argv[]) {\n",
        "//int main(){\n",
        "\n",
        "    char *a = argv[1];\n",
        "    //printf(\"a = %s\\n\", a);\n",
        "\n",
        "    int N = atoi(a);\n",
        "    printf(\"N = %d\\n\", N);\n",
        "\n",
        "    // Инициализация первой матрицы\n",
        "    DPRINTF2(\"Инициализация первой матрицу A (%d x %d)...\\n\", N, N);\n",
        "    int** A=create_matrix(N);\n",
        "    print_matrix(A, N);\n",
        "\n",
        "    // Инициализация второй матрицы\n",
        "    DPRINTF2(\"Инициализация второй матрицы B (%d x %d)...\\n\", N, N);\n",
        "    int** B=create_matrix(N);\n",
        "    print_matrix(B, N);\n",
        "\n",
        "    // Перемножение матриц\n",
        "    DPRINTF0(\"Перемножение матриц C = A * B ...\\n\");\n",
        "    int** C = multiply_matrices(A, B, N);\n",
        "    print_matrix(C, N);\n",
        "\n",
        "    // Умножение матрицы A на вектор\n",
        "    DPRINTF1(\"Инициализация вектора размером %d ...\\n\", N);\n",
        "    int* vector = create_vector(N);\n",
        "    print_vector(vector, N);\n",
        "\n",
        "    DPRINTF0(\"Умножение матрицы A на вектор ...\\n\");\n",
        "    int* result_vector = multiply_matrix_vector(A, vector, N);\n",
        "    print_vector(result_vector, N);\n",
        "\n",
        "    DPRINTF0(\"Завершил работу\\n\");\n",
        "    return 0;\n",
        "}\n"
      ],
      "metadata": {
        "colab": {
          "base_uri": "https://localhost:8080/"
        },
        "id": "UuW_zd8bmLrB",
        "outputId": "c552665f-8aab-4786-aba4-97866e389c7c"
      },
      "id": "UuW_zd8bmLrB",
      "execution_count": null,
      "outputs": [
        {
          "output_type": "stream",
          "name": "stdout",
          "text": [
            "Overwriting matrix_operations_main.c\n"
          ]
        }
      ]
    },
    {
      "cell_type": "code",
      "source": [
        "!gcc -D_DEBUG -o matrix_operations_main matrix_operations_lib.c matrix_operations_main.c"
      ],
      "metadata": {
        "id": "fVR580FxnOYd"
      },
      "id": "fVR580FxnOYd",
      "execution_count": null,
      "outputs": []
    },
    {
      "cell_type": "code",
      "source": [
        " # проверяем работу\n",
        " !./matrix_operations_main 3"
      ],
      "metadata": {
        "colab": {
          "base_uri": "https://localhost:8080/"
        },
        "id": "mzbwhiwXsEZy",
        "outputId": "bfe4075e-44a4-49dc-9153-b85ecb5e4868"
      },
      "id": "mzbwhiwXsEZy",
      "execution_count": null,
      "outputs": [
        {
          "output_type": "stream",
          "name": "stdout",
          "text": [
            "N = 3\n",
            "Инициализация первой матрицу A (3 x 3)...\n",
            "0 1 2 \n",
            "3 4 5 \n",
            "6 7 8 \n",
            "Инициализация второй матрицы B (3 x 3)...\n",
            "0 1 2 \n",
            "3 4 5 \n",
            "6 7 8 \n",
            "Перемножение матриц C = A * B ...\n",
            "multiply_matrix: Matrix a:\n",
            "0 1 2 \n",
            "3 4 5 \n",
            "6 7 8 \n",
            "multiply_matrix: Matrix b:\n",
            "0 1 2 \n",
            "3 4 5 \n",
            "6 7 8 \n",
            "multiply_matrix: Matrix c (result):\n",
            "15 18 21 \n",
            "42 54 66 \n",
            "69 90 111 \n",
            "\n",
            "15 18 21 \n",
            "42 54 66 \n",
            "69 90 111 \n",
            "Инициализация вектора размером 3 ...\n",
            "0\n",
            "1\n",
            "2\n",
            "\n",
            "Умножение матрицы A на вектор ...\n",
            "5\n",
            "14\n",
            "23\n",
            "\n",
            "Завершил работу\n"
          ]
        }
      ]
    },
    {
      "cell_type": "markdown",
      "id": "2147d411-a7d9-437b-9571-b8bf0247581d",
      "metadata": {
        "id": "2147d411-a7d9-437b-9571-b8bf0247581d"
      },
      "source": [
        "3. Подготовьте две сборки с флагами -g и -O3 и измерьте времена выполнения операций с N = 512, 1024, . . ., 4096 (20%)"
      ]
    },
    {
      "cell_type": "code",
      "execution_count": null,
      "id": "e89c6ab3-8a4d-42eb-847e-1b174511ea9b",
      "metadata": {
        "id": "e89c6ab3-8a4d-42eb-847e-1b174511ea9b"
      },
      "outputs": [],
      "source": [
        "# замеры можно сделать используя %%time, %%timeit\n",
        "# если комфортней работать с терминалом, то можно приложить\n",
        "# к домашнему заданию скрин с записанными временами расчетов"
      ]
    },
    {
      "cell_type": "markdown",
      "source": [
        "### Задание 3"
      ],
      "metadata": {
        "id": "X45Hez7j9o2j"
      },
      "id": "X45Hez7j9o2j"
    },
    {
      "cell_type": "code",
      "source": [
        "!gcc -g -o matrix_operations_main_g matrix_operations_lib.c matrix_operations_main.c"
      ],
      "metadata": {
        "id": "IotGVuWEt_9O"
      },
      "id": "IotGVuWEt_9O",
      "execution_count": null,
      "outputs": []
    },
    {
      "cell_type": "code",
      "source": [
        "%time !./matrix_operations_main_g 512\n",
        "%time !./matrix_operations_main_g 1024\n",
        "%time !./matrix_operations_main_g 2048\n",
        "# %time !./matrix_operations_main_g 4096  # очень долго !!!!"
      ],
      "metadata": {
        "colab": {
          "base_uri": "https://localhost:8080/"
        },
        "id": "O6fKagv2t__0",
        "outputId": "05959360-0402-415b-b94b-c35859fc0d09"
      },
      "id": "O6fKagv2t__0",
      "execution_count": null,
      "outputs": [
        {
          "output_type": "stream",
          "name": "stdout",
          "text": [
            "N = 512\n",
            "CPU times: user 5.6 ms, sys: 2.07 ms, total: 7.67 ms\n",
            "Wall time: 1.31 s\n",
            "N = 1024\n",
            "CPU times: user 35.2 ms, sys: 7.42 ms, total: 42.7 ms\n",
            "Wall time: 15.2 s\n",
            "N = 2048\n",
            "CPU times: user 391 ms, sys: 50.2 ms, total: 441 ms\n",
            "Wall time: 2min 46s\n"
          ]
        }
      ]
    },
    {
      "cell_type": "code",
      "source": [
        "!gcc -O3 -o matrix_operations_main_O3 matrix_operations_lib.c matrix_operations_main.c"
      ],
      "metadata": {
        "id": "ohw5omFYvqNR"
      },
      "id": "ohw5omFYvqNR",
      "execution_count": null,
      "outputs": []
    },
    {
      "cell_type": "code",
      "source": [
        "%time !./matrix_operations_main_O3 512\n",
        "%time !./matrix_operations_main_O3 1024\n",
        "%time !./matrix_operations_main_O3 2048\n",
        "# %time !./matrix_operations_main_g 4096  # очень долго !!!!"
      ],
      "metadata": {
        "colab": {
          "base_uri": "https://localhost:8080/"
        },
        "id": "IidhjhBmv1Tr",
        "outputId": "561d5c94-350d-42f1-cfcd-86291c0c4a3c"
      },
      "id": "IidhjhBmv1Tr",
      "execution_count": null,
      "outputs": [
        {
          "output_type": "stream",
          "name": "stdout",
          "text": [
            "N = 512\n",
            "CPU times: user 3.39 ms, sys: 1.05 ms, total: 4.44 ms\n",
            "Wall time: 304 ms\n",
            "N = 1024\n",
            "CPU times: user 10.6 ms, sys: 203 µs, total: 10.8 ms\n",
            "Wall time: 3.01 s\n",
            "N = 2048\n",
            "CPU times: user 216 ms, sys: 36.2 ms, total: 252 ms\n",
            "Wall time: 1min 35s\n"
          ]
        }
      ]
    },
    {
      "cell_type": "markdown",
      "id": "7c234d8a-dc1b-48c8-b038-b4c61725cb51",
      "metadata": {
        "id": "7c234d8a-dc1b-48c8-b038-b4c61725cb51"
      },
      "source": [
        "4. Выполните вызов процедуры из Python через Ctypes/Cython/PyBind11 и измерьте времена (40%)"
      ]
    },
    {
      "cell_type": "code",
      "execution_count": null,
      "id": "09283a6c-92cb-410a-86c3-d5470d6cf954",
      "metadata": {
        "id": "09283a6c-92cb-410a-86c3-d5470d6cf954"
      },
      "outputs": [],
      "source": [
        "# можно это сделать здесь"
      ]
    },
    {
      "cell_type": "markdown",
      "source": [
        "### Задание 4. Ctypes"
      ],
      "metadata": {
        "id": "ibb7kClirwSR"
      },
      "id": "ibb7kClirwSR"
    },
    {
      "cell_type": "code",
      "source": [
        "# компилируем в shared library\n",
        "!rm ./*.so\n",
        "!gcc -c -Wall -Werror -fPIC -D_DEBUG -o matrix_operations_lib.o matrix_operations_lib.c\n",
        "!gcc -shared -o matrix_operations_lib.so matrix_operations_lib.o\n",
        "!ls ./*.so\n",
        "\n",
        "#!gcc -shared -o matrix_operations_lib.so -fPIC matrix_operations_lib.c"
      ],
      "metadata": {
        "id": "8SXaKi5l3nZn",
        "colab": {
          "base_uri": "https://localhost:8080/"
        },
        "outputId": "1465fc21-081b-4420-cb5e-7afb203bd485"
      },
      "id": "8SXaKi5l3nZn",
      "execution_count": null,
      "outputs": [
        {
          "output_type": "stream",
          "name": "stdout",
          "text": [
            "./matrix_operations_lib.so\n"
          ]
        }
      ]
    },
    {
      "cell_type": "code",
      "source": [
        "#%%writefile multiply_matrices_ctypes.py\n",
        "# вызов из python-кода\n",
        "import ctypes\n",
        "\n",
        "# Загрузите динамическую библиотеку\n",
        "lib = ctypes.CDLL('./matrix_operations_lib.so')\n",
        "\n",
        "# Определяем типы аргументов и возвращаемое значение функции\n",
        "lib.multiply_matrices.argtypes = [ctypes.POINTER(ctypes.POINTER(ctypes.c_int)),\n",
        "                                  ctypes.POINTER(ctypes.POINTER(ctypes.c_int)),\n",
        "                                  ctypes.c_int]\n",
        "\n",
        "lib.multiply_matrices.restype = ctypes.POINTER(ctypes.POINTER(ctypes.c_int))\n",
        "\n",
        "def create_ctypes_array(M):\n",
        "    N = len(M)\n",
        "    m = (ctypes.POINTER(ctypes.c_int) * N)()\n",
        "    for i, row in enumerate(M):\n",
        "        m[i] = (ctypes.c_int * len(row))(*row)\n",
        "    ctypes_M = m\n",
        "    return ctypes_M\n",
        "\n",
        "# Проверяем работу\n",
        "A = [[1,2],[3,4]]\n",
        "B = [[5,6],[7,8]]\n",
        "N = len(A)\n",
        "\n",
        "# Упаковываем матрицы в типы ctypes\n",
        "ctypes_A = create_ctypes_array(A)\n",
        "ctypes_B = create_ctypes_array(B)\n",
        "\n",
        "# Создание матрицы C для результата\n",
        "ctypes_C = create_ctypes_array([[0 for i in range(N)] for j in range(N)])\n",
        "\n",
        "# Вызов функции перемножения матриц\n",
        "ctypes_C = lib.multiply_matrices(ctypes_A,\n",
        "                                 ctypes_B,\n",
        "                                 N)\n",
        "\n",
        "C_result = [[ctypes_C[j][i] for i in range(N)] for j in range(N)]\n",
        "print(C_result)"
      ],
      "metadata": {
        "id": "XGCYrq2X3tkn",
        "outputId": "8506d899-8574-45f7-bae8-b72516dc5cb0",
        "colab": {
          "base_uri": "https://localhost:8080/"
        }
      },
      "id": "XGCYrq2X3tkn",
      "execution_count": null,
      "outputs": [
        {
          "output_type": "stream",
          "name": "stdout",
          "text": [
            "[[19, 22], [43, 50]]\n"
          ]
        }
      ]
    },
    {
      "cell_type": "code",
      "source": [
        "# замер скорости для матрицы N=2048\n",
        "\n",
        "# компилируем без ключика DEBUG\n",
        "!rm ./*.so\n",
        "!gcc -c -Wall -Werror -fPIC -o matrix_operations_lib.o matrix_operations_lib.c\n",
        "!gcc -shared -o matrix_operations_lib.so matrix_operations_lib.o\n",
        "!ls ./*.so\n",
        "\n",
        "# Заполняем матрицы\n",
        "from random import randint\n",
        "N = 2048\n",
        "\n",
        "ctypes_A = create_ctypes_array([[randint(0,N) for i in range(N)] for j in range(N)])\n",
        "ctypes_B = create_ctypes_array([[randint(0,N) for i in range(N)] for j in range(N)])\n",
        "ctypes_C = create_ctypes_array([[0 for i in range(N)] for j in range(N)])\n"
      ],
      "metadata": {
        "id": "CBQaEJteQraE",
        "colab": {
          "base_uri": "https://localhost:8080/"
        },
        "outputId": "12ddede0-988b-49c8-b194-9601829c3854"
      },
      "id": "CBQaEJteQraE",
      "execution_count": null,
      "outputs": [
        {
          "output_type": "stream",
          "name": "stdout",
          "text": [
            "./matrix_operations_lib.so\n"
          ]
        }
      ]
    },
    {
      "cell_type": "code",
      "source": [
        "%%time\n",
        "ctypes_C = lib.multiply_matrices(ctypes_A,\n",
        "                                 ctypes_B,\n",
        "                                 N)\n"
      ],
      "metadata": {
        "id": "OP9iI8DwUK0I",
        "colab": {
          "base_uri": "https://localhost:8080/"
        },
        "outputId": "cca979f1-40ff-429f-95a0-42f4b61c35a9"
      },
      "id": "OP9iI8DwUK0I",
      "execution_count": null,
      "outputs": [
        {
          "output_type": "stream",
          "name": "stdout",
          "text": [
            "CPU times: user 2min 36s, sys: 198 ms, total: 2min 36s\n",
            "Wall time: 2min 39s\n"
          ]
        }
      ]
    },
    {
      "cell_type": "markdown",
      "source": [
        "### Задание 4. Pybind11"
      ],
      "metadata": {
        "id": "nLDsfKkVX4zn"
      },
      "id": "nLDsfKkVX4zn"
    },
    {
      "cell_type": "code",
      "source": [
        "!pip install pybind11"
      ],
      "metadata": {
        "id": "zqnLVd24X229",
        "outputId": "4b8f47cc-67ee-4359-a97c-278f79ef40b5",
        "colab": {
          "base_uri": "https://localhost:8080/"
        }
      },
      "id": "zqnLVd24X229",
      "execution_count": null,
      "outputs": [
        {
          "output_type": "stream",
          "name": "stdout",
          "text": [
            "Collecting pybind11\n",
            "  Downloading pybind11-3.0.0-py3-none-any.whl.metadata (10.0 kB)\n",
            "Downloading pybind11-3.0.0-py3-none-any.whl (292 kB)\n",
            "\u001b[?25l   \u001b[90m━━━━━━━━━━━━━━━━━━━━━━━━━━━━━━━━━━━━━━━━\u001b[0m \u001b[32m0.0/292.1 kB\u001b[0m \u001b[31m?\u001b[0m eta \u001b[36m-:--:--\u001b[0m\r\u001b[2K   \u001b[90m━━━━━━━━━━━━━━━━━━━━━━━━━━━━━━━━━━━━━━━━\u001b[0m \u001b[32m292.1/292.1 kB\u001b[0m \u001b[31m8.6 MB/s\u001b[0m eta \u001b[36m0:00:00\u001b[0m\n",
            "\u001b[?25hInstalling collected packages: pybind11\n",
            "Successfully installed pybind11-3.0.0\n"
          ]
        }
      ]
    },
    {
      "cell_type": "markdown",
      "source": [],
      "metadata": {
        "id": "jf0Tq7ojX31V"
      },
      "id": "jf0Tq7ojX31V"
    },
    {
      "cell_type": "code",
      "source": [
        "%%writefile matrix_multiply.cpp\n",
        "\n",
        "#include <vector>\n",
        "#include <stdexcept>\n",
        "#include <pybind11/pybind11.h>\n",
        "#include <pybind11/stl.h>\n",
        "\n",
        "namespace py = pybind11;\n",
        "\n",
        "// Функция умножения матриц\n",
        "std::vector<std::vector<double>> matrix_multiply(\n",
        "    const std::vector<std::vector<double>>& a,\n",
        "    const std::vector<std::vector<double>>& b) {\n",
        "\n",
        "    // Проверка размеров матриц\n",
        "    if (a.empty() || b.empty()) {\n",
        "        throw std::invalid_argument(\"Matrices must not be empty\");\n",
        "    }\n",
        "\n",
        "    const size_t a_rows = a.size();\n",
        "    const size_t a_cols = a[0].size();\n",
        "    const size_t b_rows = b.size();\n",
        "    const size_t b_cols = b[0].size();\n",
        "\n",
        "    // Проверка согласованности размеров\n",
        "    if (a_cols != b_rows) {\n",
        "        throw std::invalid_argument(\n",
        "            \"Number of columns in first matrix must equal number of rows in second matrix. \"\n",
        "            \"Got \" + std::to_string(a_cols) + \" and \" + std::to_string(b_rows)\n",
        "        );\n",
        "    }\n",
        "\n",
        "    // Создание результирующей матрицы\n",
        "    std::vector<std::vector<double>> result(a_rows, std::vector<double>(b_cols, 0.0));\n",
        "\n",
        "    // Оптимизированное умножение матриц\n",
        "    for (size_t i = 0; i < a_rows; ++i) {\n",
        "        // Проверка согласованности строк\n",
        "        if (a[i].size() != a_cols) {\n",
        "            throw std::invalid_argument(\"Inconsistent row size in matrix A\");\n",
        "        }\n",
        "\n",
        "        for (size_t k = 0; k < a_cols; ++k) {\n",
        "            // Проверка согласованности столбцов\n",
        "            if (b[k].size() != b_cols) {\n",
        "                throw std::invalid_argument(\"Inconsistent column size in matrix B\");\n",
        "            }\n",
        "\n",
        "            const double temp = a[i][k];\n",
        "            for (size_t j = 0; j < b_cols; ++j) {\n",
        "                result[i][j] += temp * b[k][j];\n",
        "            }\n",
        "        }\n",
        "    }\n",
        "\n",
        "    return result;\n",
        "}\n",
        "\n",
        "// Создание Python модуля\n",
        "PYBIND11_MODULE(matrix_ops, m) {\n",
        "    m.doc() = \"Matrix operations module\";\n",
        "\n",
        "    m.def(\"matrix_multiply\", &matrix_multiply, py::arg(\"a\"), py::arg(\"b\"),\n",
        "        \"Multiply two matrices\\n\\n\"\n",
        "        \"Parameters:\\n\"\n",
        "        \"    a: First matrix (list of lists)\\n\"\n",
        "        \"    b: Second matrix (list of lists)\\n\\n\"\n",
        "        \"Returns:\\n\"\n",
        "        \"    Product matrix (list of lists)\\n\\n\"\n",
        "        \"Raises:\\n\"\n",
        "        \"    ValueError: If matrix dimensions are incompatible\");\n",
        "}"
      ],
      "metadata": {
        "id": "E7TCsuh3UTjr",
        "colab": {
          "base_uri": "https://localhost:8080/"
        },
        "outputId": "e443ed19-c53a-43f6-9354-4001d1b0e752"
      },
      "id": "E7TCsuh3UTjr",
      "execution_count": null,
      "outputs": [
        {
          "output_type": "stream",
          "name": "stdout",
          "text": [
            "Writing matrix_multiply.cpp\n"
          ]
        }
      ]
    },
    {
      "cell_type": "code",
      "source": [
        "%%writefile setup.py\n",
        "\n",
        "from setuptools import setup, Extension\n",
        "import pybind11\n",
        "\n",
        "setup(\n",
        "    name='matrix_ops',\n",
        "    ext_modules=[\n",
        "        Extension(\n",
        "            'matrix_ops',\n",
        "            ['matrix_multiply.cpp'],\n",
        "            include_dirs=[pybind11.get_include()],\n",
        "            language='c++'\n",
        "        ),\n",
        "    ],\n",
        "    zip_safe=False\n",
        ")\n"
      ],
      "metadata": {
        "id": "FD8PprBXaJmP",
        "outputId": "71b462be-2791-45bc-e952-c22038cb64bd",
        "colab": {
          "base_uri": "https://localhost:8080/"
        }
      },
      "id": "FD8PprBXaJmP",
      "execution_count": null,
      "outputs": [
        {
          "output_type": "stream",
          "name": "stdout",
          "text": [
            "Overwriting setup.py\n"
          ]
        }
      ]
    },
    {
      "cell_type": "code",
      "source": [
        "!python setup.py build_ext --inplace"
      ],
      "metadata": {
        "id": "10Q0i-FK260K",
        "colab": {
          "base_uri": "https://localhost:8080/"
        },
        "outputId": "081c464d-7a23-4e82-80f0-4afcd9bbd54f"
      },
      "id": "10Q0i-FK260K",
      "execution_count": null,
      "outputs": [
        {
          "output_type": "stream",
          "name": "stdout",
          "text": [
            "running build_ext\n",
            "building 'matrix_ops' extension\n",
            "x86_64-linux-gnu-g++ -Wsign-compare -DNDEBUG -g -fwrapv -O2 -Wall -g -fstack-protector-strong -Wformat -Werror=format-security -g -fwrapv -O2 -fPIC -I/usr/local/lib/python3.11/dist-packages/pybind11/include -I/usr/include/python3.11 -c matrix_multiply.cpp -o build/temp.linux-x86_64-cpython-311/matrix_multiply.o\n",
            "x86_64-linux-gnu-g++ -Wsign-compare -DNDEBUG -g -fwrapv -O2 -Wall -g -fstack-protector-strong -Wformat -Werror=format-security -g -fwrapv -O2 -shared -Wl,-O1 -Wl,-Bsymbolic-functions build/temp.linux-x86_64-cpython-311/matrix_multiply.o -L/usr/lib/x86_64-linux-gnu -o build/lib.linux-x86_64-cpython-311/matrix_ops.cpython-311-x86_64-linux-gnu.so\n",
            "copying build/lib.linux-x86_64-cpython-311/matrix_ops.cpython-311-x86_64-linux-gnu.so -> \n"
          ]
        }
      ]
    },
    {
      "cell_type": "code",
      "source": [
        "# Проверяем работу\n",
        "\n",
        "import matrix_ops\n",
        "\n",
        "A = [[1,2],[3,4]]\n",
        "B = [[5,6],[7,8]]\n",
        "N = len(A)\n",
        "\n",
        "result = matrix_ops.matrix_multiply(A,B)\n",
        "result"
      ],
      "metadata": {
        "id": "uD1sLcDi264-",
        "colab": {
          "base_uri": "https://localhost:8080/"
        },
        "outputId": "05fbb9ca-352f-48b5-b72a-a884681a1277"
      },
      "id": "uD1sLcDi264-",
      "execution_count": null,
      "outputs": [
        {
          "output_type": "execute_result",
          "data": {
            "text/plain": [
              "[[19.0, 22.0], [43.0, 50.0]]"
            ]
          },
          "metadata": {},
          "execution_count": 21
        }
      ]
    },
    {
      "cell_type": "code",
      "source": [
        "# замер скорости для матрицы N=2048\n",
        "\n",
        "# Заполняем матрицы\n",
        "from random import randint\n",
        "N = 2048\n",
        "\n",
        "A = [[randint(0,N) for i in range(N)] for j in range(N)]\n",
        "B = [[randint(0,N) for i in range(N)] for j in range(N)]"
      ],
      "metadata": {
        "id": "R2SUEXgy268I"
      },
      "id": "R2SUEXgy268I",
      "execution_count": null,
      "outputs": []
    },
    {
      "cell_type": "code",
      "source": [
        "%%time\n",
        "result = matrix_ops.matrix_multiply(A,B)\n",
        "len(result)"
      ],
      "metadata": {
        "id": "WMxnJv-027A4",
        "colab": {
          "base_uri": "https://localhost:8080/"
        },
        "outputId": "07cf189a-4ecd-4642-d11d-d77ace4462e0"
      },
      "id": "WMxnJv-027A4",
      "execution_count": null,
      "outputs": [
        {
          "output_type": "stream",
          "name": "stdout",
          "text": [
            "CPU times: user 9.81 s, sys: 194 ms, total: 10 s\n",
            "Wall time: 9.99 s\n"
          ]
        },
        {
          "output_type": "execute_result",
          "data": {
            "text/plain": [
              "2048"
            ]
          },
          "metadata": {},
          "execution_count": 28
        }
      ]
    },
    {
      "cell_type": "markdown",
      "source": [
        "Pybind значительно быстрее. Вероятно, из-за оптимизаций компилятора."
      ],
      "metadata": {
        "id": "8jBGBQAOiBe9"
      },
      "id": "8jBGBQAOiBe9"
    },
    {
      "cell_type": "markdown",
      "source": [
        "### Задание 4. Cython"
      ],
      "metadata": {
        "id": "uyEyPcZQiT2b"
      },
      "id": "uyEyPcZQiT2b"
    },
    {
      "cell_type": "code",
      "source": [
        "!pip install cython"
      ],
      "metadata": {
        "id": "g0PmxxpWlGAA",
        "outputId": "cd53fa6a-447b-452e-ec98-d0a9b7ecc133",
        "colab": {
          "base_uri": "https://localhost:8080/"
        }
      },
      "id": "g0PmxxpWlGAA",
      "execution_count": 1,
      "outputs": [
        {
          "output_type": "stream",
          "name": "stdout",
          "text": [
            "Requirement already satisfied: cython in /usr/local/lib/python3.11/dist-packages (3.0.12)\n"
          ]
        }
      ]
    },
    {
      "cell_type": "code",
      "source": [
        "%%writefile matrix_multiplication.pyx\n",
        "\n",
        "import numpy as np\n",
        "cimport numpy as cnp\n",
        "\n",
        "def matrix_multiply(cnp.ndarray[cnp.int64_t, ndim=2] A,\n",
        "                    cnp.ndarray[cnp.int64_t, ndim=2] B,\n",
        "                    cnp.ndarray[cnp.int64_t, ndim=2] C):\n",
        "    cdef int i, j, k\n",
        "    cdef int n = A.shape[0]\n",
        "\n",
        "    for i in range(n):\n",
        "        for j in range(n):\n",
        "            C[i, j] = 0\n",
        "            for k in range(n):\n",
        "                C[i, j] += A[i, k] * B[k, j]\n"
      ],
      "metadata": {
        "id": "8CcnzCKLlWy1",
        "outputId": "c8927ca0-e1b0-45a3-ef96-9c1e573fb461",
        "colab": {
          "base_uri": "https://localhost:8080/"
        }
      },
      "id": "8CcnzCKLlWy1",
      "execution_count": 11,
      "outputs": [
        {
          "output_type": "stream",
          "name": "stdout",
          "text": [
            "Overwriting matrix_multiplication.pyx\n"
          ]
        }
      ]
    },
    {
      "cell_type": "code",
      "source": [
        "%%writefile setup.py\n",
        "\n",
        "from setuptools import setup\n",
        "from Cython.Build import cythonize\n",
        "import numpy as np\n",
        "\n",
        "setup(\n",
        "    ext_modules=cythonize(\"matrix_multiplication.pyx\"),\n",
        "    include_dirs=[np.get_include()]\n",
        ")\n"
      ],
      "metadata": {
        "id": "_7GowC9dl1g0",
        "outputId": "06321c91-b689-4310-d2b4-53b681ab5554",
        "colab": {
          "base_uri": "https://localhost:8080/"
        }
      },
      "id": "_7GowC9dl1g0",
      "execution_count": 2,
      "outputs": [
        {
          "output_type": "stream",
          "name": "stdout",
          "text": [
            "Overwriting setup.py\n"
          ]
        }
      ]
    },
    {
      "cell_type": "code",
      "source": [
        "!python setup.py build_ext --inplace"
      ],
      "metadata": {
        "id": "vYz1RoIYmGrH",
        "outputId": "22ea918b-5ea3-45a4-80e3-44b1f835561f",
        "colab": {
          "base_uri": "https://localhost:8080/"
        }
      },
      "id": "vYz1RoIYmGrH",
      "execution_count": 12,
      "outputs": [
        {
          "output_type": "stream",
          "name": "stdout",
          "text": [
            "Compiling matrix_multiplication.pyx because it changed.\n",
            "[1/1] Cythonizing matrix_multiplication.pyx\n",
            "/usr/local/lib/python3.11/dist-packages/Cython/Compiler/Main.py:381: FutureWarning: Cython directive 'language_level' not set, using '3str' for now (Py3). This has changed from earlier releases! File: /content/matrix_multiplication.pyx\n",
            "  tree = Parsing.p_module(s, pxd, full_module_name)\n",
            "running build_ext\n",
            "building 'matrix_multiplication' extension\n",
            "x86_64-linux-gnu-gcc -Wsign-compare -DNDEBUG -g -fwrapv -O2 -Wall -g -fstack-protector-strong -Wformat -Werror=format-security -g -fwrapv -O2 -fPIC -I/usr/local/lib/python3.11/dist-packages/numpy/_core/include -I/usr/include/python3.11 -c matrix_multiplication.c -o build/temp.linux-x86_64-cpython-311/matrix_multiplication.o\n",
            "In file included from \u001b[01m\u001b[K/usr/local/lib/python3.11/dist-packages/numpy/_core/include/numpy/ndarraytypes.h:1909\u001b[m\u001b[K,\n",
            "                 from \u001b[01m\u001b[K/usr/local/lib/python3.11/dist-packages/numpy/_core/include/numpy/ndarrayobject.h:12\u001b[m\u001b[K,\n",
            "                 from \u001b[01m\u001b[K/usr/local/lib/python3.11/dist-packages/numpy/_core/include/numpy/arrayobject.h:5\u001b[m\u001b[K,\n",
            "                 from \u001b[01m\u001b[Kmatrix_multiplication.c:1240\u001b[m\u001b[K:\n",
            "\u001b[01m\u001b[K/usr/local/lib/python3.11/dist-packages/numpy/_core/include/numpy/npy_1_7_deprecated_api.h:17:2:\u001b[m\u001b[K \u001b[01;35m\u001b[Kwarning: \u001b[m\u001b[K#warning \"Using deprecated NumPy API, disable it with \" \"#define NPY_NO_DEPRECATED_API NPY_1_7_API_VERSION\" [\u001b[01;35m\u001b[K\u001b]8;;https://gcc.gnu.org/onlinedocs/gcc/Warning-Options.html#index-Wcpp\u0007-Wcpp\u001b]8;;\u0007\u001b[m\u001b[K]\n",
            "   17 | #\u001b[01;35m\u001b[Kwarning\u001b[m\u001b[K \"Using deprecated NumPy API, disable it with \" \\\n",
            "      |  \u001b[01;35m\u001b[K^~~~~~~\u001b[m\u001b[K\n",
            "x86_64-linux-gnu-gcc -shared -Wl,-O1 -Wl,-Bsymbolic-functions -Wl,-Bsymbolic-functions -g -fwrapv -O2 build/temp.linux-x86_64-cpython-311/matrix_multiplication.o -L/usr/lib/x86_64-linux-gnu -o build/lib.linux-x86_64-cpython-311/matrix_multiplication.cpython-311-x86_64-linux-gnu.so\n",
            "copying build/lib.linux-x86_64-cpython-311/matrix_multiplication.cpython-311-x86_64-linux-gnu.so -> \n"
          ]
        }
      ]
    },
    {
      "cell_type": "code",
      "source": [
        "# Проверяем\n",
        "\n",
        "import numpy as np\n",
        "from matrix_multiplication import matrix_multiply\n",
        "\n",
        "MAX_VAL=4096\n",
        "A = np.random.randint(low=0, high=MAX_VAL, size=(4, 4), dtype='int64')\n",
        "B = np.random.randint(low=0, high=MAX_VAL, size=(4, 4) ,dtype='int64')\n",
        "C = np.zeros((4, 4), dtype=np.int64)\n",
        "\n",
        "matrix_multiply(A, B, C)\n",
        "\n",
        "print(C)"
      ],
      "metadata": {
        "id": "csjtPILcmRWo",
        "outputId": "161a8995-ed90-4cc2-fbb8-ddc9d8dd3642",
        "colab": {
          "base_uri": "https://localhost:8080/"
        }
      },
      "id": "csjtPILcmRWo",
      "execution_count": 1,
      "outputs": [
        {
          "output_type": "stream",
          "name": "stdout",
          "text": [
            "[[15652535 14121343  8545784  9420040]\n",
            " [18447531 13444045 11123236  8946857]\n",
            " [ 9860390 11840765  5135262  8689459]\n",
            " [27296591 22399587 14017592 13699506]]\n"
          ]
        }
      ]
    },
    {
      "cell_type": "code",
      "source": [
        "# Замер скорости для N=2048\n",
        "\n",
        "# Заполняем матрицы\n",
        "N = 2048\n",
        "\n",
        "A = np.random.randint(low=0, high=MAX_VAL, size=(N, N), dtype='int64')\n",
        "B = np.random.randint(low=0, high=MAX_VAL, size=(N, N) ,dtype='int64')\n",
        "C = np.zeros((N, N), dtype=np.int64)"
      ],
      "metadata": {
        "id": "Ic9DK1-XnCfn"
      },
      "id": "Ic9DK1-XnCfn",
      "execution_count": 2,
      "outputs": []
    },
    {
      "cell_type": "code",
      "source": [
        "%%time\n",
        "matrix_multiply(A, B, C)\n",
        "C.shape"
      ],
      "metadata": {
        "id": "Nv-dge6-nF-o",
        "outputId": "417520c6-059a-4792-f9a3-b84a7b3907ef",
        "colab": {
          "base_uri": "https://localhost:8080/"
        }
      },
      "id": "Nv-dge6-nF-o",
      "execution_count": 3,
      "outputs": [
        {
          "output_type": "stream",
          "name": "stdout",
          "text": [
            "CPU times: user 1min 53s, sys: 543 ms, total: 1min 53s\n",
            "Wall time: 1min 54s\n"
          ]
        },
        {
          "output_type": "execute_result",
          "data": {
            "text/plain": [
              "(2048, 2048)"
            ]
          },
          "metadata": {},
          "execution_count": 3
        }
      ]
    },
    {
      "cell_type": "markdown",
      "source": [
        "# Задание 4. Итоги\n",
        "\n",
        "По скорости (от самого быстрого к самлому медленному):\n",
        "\n",
        "* PyBind\n",
        "* Cython\n",
        "* Ctypes\n",
        "\n",
        "Cython оказался быстрее Ctypes вероятно из-за того, что в Сython под капотом используются векторые библиотеки C++."
      ],
      "metadata": {
        "id": "3fPVQUepvVDz"
      },
      "id": "3fPVQUepvVDz"
    },
    {
      "cell_type": "markdown",
      "id": "ec657595-8781-4d82-bf05-5c66df1f2f10",
      "metadata": {
        "id": "ec657595-8781-4d82-bf05-5c66df1f2f10"
      },
      "source": [
        "БОНУСЫ:\n",
        "\n",
        "1. Дополнительные баллы за использование функций BLAS/cBLAS/openBLAS;\n",
        "2. Дополнительные баллы за вызов теста LINPACK на вашем компьютере;\n",
        "3. Супербонус: реализовать метод Штрассена перемножения квадратных матриц"
      ]
    },
    {
      "cell_type": "code",
      "execution_count": null,
      "id": "96d6f952-62e0-4c1f-a4a6-97210a4322e8",
      "metadata": {
        "id": "96d6f952-62e0-4c1f-a4a6-97210a4322e8"
      },
      "outputs": [],
      "source": []
    }
  ],
  "metadata": {
    "kernelspec": {
      "display_name": "Python 3 (ipykernel)",
      "language": "python",
      "name": "python3"
    },
    "language_info": {
      "codemirror_mode": {
        "name": "ipython",
        "version": 3
      },
      "file_extension": ".py",
      "mimetype": "text/x-python",
      "name": "python",
      "nbconvert_exporter": "python",
      "pygments_lexer": "ipython3",
      "version": "3.13.5"
    },
    "colab": {
      "provenance": [],
      "toc_visible": true,
      "include_colab_link": true
    }
  },
  "nbformat": 4,
  "nbformat_minor": 5
}